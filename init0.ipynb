{
  "nbformat": 4,
  "nbformat_minor": 0,
  "metadata": {
    "colab": {
      "provenance": [],
      "authorship_tag": "ABX9TyOxR8j8VNQfbOShlZekRQdJ",
      "include_colab_link": true
    },
    "kernelspec": {
      "name": "python3",
      "display_name": "Python 3"
    },
    "language_info": {
      "name": "python"
    }
  },
  "cells": [
    {
      "cell_type": "markdown",
      "metadata": {
        "id": "view-in-github",
        "colab_type": "text"
      },
      "source": [
        "<a href=\"https://colab.research.google.com/github/nik-hil-24/bazingo/blob/main/init0.ipynb\" target=\"_parent\"><img src=\"https://colab.research.google.com/assets/colab-badge.svg\" alt=\"Open In Colab\"/></a>"
      ]
    },
    {
      "cell_type": "code",
      "execution_count": 1,
      "metadata": {
        "colab": {
          "base_uri": "https://localhost:8080/"
        },
        "id": "N5UtVN7ezPiJ",
        "outputId": "df1dc740-3f0a-4fb5-c7e3-03f8877a33c2"
      },
      "outputs": [
        {
          "output_type": "stream",
          "name": "stdout",
          "text": [
            "--2023-07-29 16:21:23--  https://raw.githubusercontent.com/karpathy/char-rnn/master/data/tinyshakespeare/input.txt\n",
            "Resolving raw.githubusercontent.com (raw.githubusercontent.com)... 185.199.111.133, 185.199.109.133, 185.199.110.133, ...\n",
            "Connecting to raw.githubusercontent.com (raw.githubusercontent.com)|185.199.111.133|:443... connected.\n",
            "HTTP request sent, awaiting response... 200 OK\n",
            "Length: 1115394 (1.1M) [text/plain]\n",
            "Saving to: ‘input.txt’\n",
            "\n",
            "\rinput.txt             0%[                    ]       0  --.-KB/s               \rinput.txt           100%[===================>]   1.06M  --.-KB/s    in 0.03s   \n",
            "\n",
            "2023-07-29 16:21:23 (33.1 MB/s) - ‘input.txt’ saved [1115394/1115394]\n",
            "\n"
          ]
        }
      ],
      "source": [
        "# Get Dataset\n",
        "!wget https://raw.githubusercontent.com/karpathy/char-rnn/master/data/tinyshakespeare/input.txt"
      ]
    },
    {
      "cell_type": "code",
      "source": [
        "# Imports\n",
        "import torch\n",
        "from torch import nn\n",
        "from torch.optim import Adam\n",
        "from torch.nn import functional as F"
      ],
      "metadata": {
        "id": "6tSxQo5U9mUo"
      },
      "execution_count": 2,
      "outputs": []
    },
    {
      "cell_type": "code",
      "source": [
        "# Read Dataset\n",
        "with open('input.txt', 'r', encoding = 'utf-8') as f:\n",
        "    text = f.read()"
      ],
      "metadata": {
        "id": "j9JSaAvszd4H"
      },
      "execution_count": 3,
      "outputs": []
    },
    {
      "cell_type": "code",
      "source": [
        "# Dataset Length\n",
        "len(text)"
      ],
      "metadata": {
        "colab": {
          "base_uri": "https://localhost:8080/"
        },
        "id": "gT3LmTYyzuS2",
        "outputId": "74472e75-020b-439d-f2f6-f69c4f3b12f9"
      },
      "execution_count": 4,
      "outputs": [
        {
          "output_type": "execute_result",
          "data": {
            "text/plain": [
              "1115394"
            ]
          },
          "metadata": {},
          "execution_count": 4
        }
      ]
    },
    {
      "cell_type": "code",
      "source": [
        "# Unique Characters in the Dataset\n",
        "characters = list(set(text))\n",
        "print(''.join(sorted(characters)))\n",
        "print(len(characters))"
      ],
      "metadata": {
        "colab": {
          "base_uri": "https://localhost:8080/"
        },
        "id": "coGZloQyz8-U",
        "outputId": "5fd3b064-f3ae-43e5-937a-cd2fc802ff39"
      },
      "execution_count": 5,
      "outputs": [
        {
          "output_type": "stream",
          "name": "stdout",
          "text": [
            "\n",
            " !$&',-.3:;?ABCDEFGHIJKLMNOPQRSTUVWXYZabcdefghijklmnopqrstuvwxyz\n",
            "65\n"
          ]
        }
      ]
    },
    {
      "cell_type": "code",
      "source": [
        "# Encode Text\n",
        "mapping = {char:i for i, char in enumerate(characters)}\n",
        "rev_mapping = dict(enumerate(characters))\n",
        "\n",
        "encode_text = lambda string: [mapping[s] for s in string]\n",
        "decode_text = lambda ls: ''.join([rev_mapping[l] for l in ls])\n",
        "\n",
        "# Test\n",
        "print(encode_text('Hi There!'))\n",
        "print(decode_text([57, 39, 29, 38, 4, 42, 14, 42, 55]))"
      ],
      "metadata": {
        "colab": {
          "base_uri": "https://localhost:8080/"
        },
        "id": "ySzNXyug0SCH",
        "outputId": "ba10f294-1eb2-4b8b-a092-d3b7ca4d1e40"
      },
      "execution_count": 6,
      "outputs": [
        {
          "output_type": "stream",
          "name": "stdout",
          "text": [
            "[5, 43, 24, 29, 57, 62, 12, 62, 61]\n",
            "h?TUqPfPd\n"
          ]
        }
      ]
    },
    {
      "cell_type": "code",
      "source": [
        "# Creating Tensor Dataset of Encoded Text\n",
        "data = torch.tensor(encode_text(text), dtype = torch.long)\n",
        "print(data.shape)"
      ],
      "metadata": {
        "colab": {
          "base_uri": "https://localhost:8080/"
        },
        "id": "FuB7O7Ad0syi",
        "outputId": "978b0fe9-353f-4d81-a5e4-c79065cfdf85"
      },
      "execution_count": 7,
      "outputs": [
        {
          "output_type": "stream",
          "name": "stdout",
          "text": [
            "torch.Size([1115394])\n"
          ]
        }
      ]
    },
    {
      "cell_type": "code",
      "source": [
        "# Train Test Split\n",
        "n = int(0.9*(len(data)))\n",
        "train = data[:n]\n",
        "test = data[n:]"
      ],
      "metadata": {
        "id": "lsk4V8oW3EdE"
      },
      "execution_count": 8,
      "outputs": []
    },
    {
      "cell_type": "code",
      "source": [
        "# DataLoader Batch Size\n",
        "batch_size = 4\n",
        "# Maximum Context Length\n",
        "block_size = 8\n",
        "\n",
        "def get_batch(split):\n",
        "    # Get Data\n",
        "    inp = train if split == 'train' else test\n",
        "    # Random Indexes\n",
        "    ix = torch.randint(len(inp)-block_size, (batch_size,))\n",
        "    # x is from i:i+block_size, y is i+1:i_block_size+1\n",
        "    x = torch.stack([inp[i:i+block_size] for i in ix])\n",
        "    y = torch.stack([inp[i+1:i+block_size+1] for i in ix])\n",
        "    return x, y\n",
        "\n",
        "x_batch, y_batch = get_batch('train')\n",
        "for i in range(batch_size):\n",
        "    for j in range(block_size):\n",
        "        context = x_batch[i, :j+1]\n",
        "        target = y_batch[i, j]\n",
        "        print(f'Context is: {context.tolist()}, Target is {target.tolist()}')"
      ],
      "metadata": {
        "colab": {
          "base_uri": "https://localhost:8080/"
        },
        "id": "gFd4dvh95tAp",
        "outputId": "05ffd20e-df9f-4a65-d47f-4889075c316c"
      },
      "execution_count": 12,
      "outputs": [
        {
          "output_type": "stream",
          "name": "stdout",
          "text": [
            "Context is: [44], Target is 50\n",
            "Context is: [44, 50], Target is 27\n",
            "Context is: [44, 50, 27], Target is 44\n",
            "Context is: [44, 50, 27, 44], Target is 34\n",
            "Context is: [44, 50, 27, 44, 34], Target is 60\n",
            "Context is: [44, 50, 27, 44, 34, 60], Target is 16\n",
            "Context is: [44, 50, 27, 44, 34, 60, 16], Target is 38\n",
            "Context is: [44, 50, 27, 44, 34, 60, 16, 38], Target is 54\n",
            "Context is: [31], Target is 10\n",
            "Context is: [31, 10], Target is 43\n",
            "Context is: [31, 10, 43], Target is 19\n",
            "Context is: [31, 10, 43, 19], Target is 24\n",
            "Context is: [31, 10, 43, 19, 24], Target is 43\n",
            "Context is: [31, 10, 43, 19, 24, 43], Target is 19\n",
            "Context is: [31, 10, 43, 19, 24, 43, 19], Target is 24\n",
            "Context is: [31, 10, 43, 19, 24, 43, 19, 24], Target is 23\n",
            "Context is: [12], Target is 12\n",
            "Context is: [12, 12], Target is 43\n",
            "Context is: [12, 12, 43], Target is 56\n",
            "Context is: [12, 12, 43, 56], Target is 36\n",
            "Context is: [12, 12, 43, 56, 36], Target is 12\n",
            "Context is: [12, 12, 43, 56, 36, 12], Target is 43\n",
            "Context is: [12, 12, 43, 56, 36, 12, 43], Target is 62\n",
            "Context is: [12, 12, 43, 56, 36, 12, 43, 62], Target is 13\n",
            "Context is: [13], Target is 2\n",
            "Context is: [13, 2], Target is 10\n",
            "Context is: [13, 2, 10], Target is 43\n",
            "Context is: [13, 2, 10, 43], Target is 12\n",
            "Context is: [13, 2, 10, 43, 12], Target is 61\n",
            "Context is: [13, 2, 10, 43, 12, 61], Target is 24\n",
            "Context is: [13, 2, 10, 43, 12, 61, 24], Target is 5\n",
            "Context is: [13, 2, 10, 43, 12, 61, 24, 5], Target is 10\n"
          ]
        }
      ]
    },
    {
      "cell_type": "code",
      "source": [
        "# Seed\n",
        "torch.maual_seed(1337)\n",
        "\n",
        "# Bigram Model\n",
        "class BigramLanguageModel(nn.Module):\n",
        ""
      ],
      "metadata": {
        "id": "JDfNSaSXditu"
      },
      "execution_count": null,
      "outputs": []
    }
  ]
}