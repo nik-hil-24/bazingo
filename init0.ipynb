{
  "nbformat": 4,
  "nbformat_minor": 0,
  "metadata": {
    "colab": {
      "provenance": [],
      "gpuType": "T4",
      "collapsed_sections": [
        "fvvHR9esNq6D"
      ],
      "authorship_tag": "ABX9TyMSafnTdVVw9YYHTiCCThlt",
      "include_colab_link": true
    },
    "kernelspec": {
      "name": "python3",
      "display_name": "Python 3"
    },
    "language_info": {
      "name": "python"
    },
    "accelerator": "GPU"
  },
  "cells": [
    {
      "cell_type": "markdown",
      "metadata": {
        "id": "view-in-github",
        "colab_type": "text"
      },
      "source": [
        "<a href=\"https://colab.research.google.com/github/nik-hil-24/bazingo/blob/main/init0.ipynb\" target=\"_parent\"><img src=\"https://colab.research.google.com/assets/colab-badge.svg\" alt=\"Open In Colab\"/></a>"
      ]
    },
    {
      "cell_type": "code",
      "execution_count": 1,
      "metadata": {
        "colab": {
          "base_uri": "https://localhost:8080/"
        },
        "id": "N5UtVN7ezPiJ",
        "outputId": "6345c75d-56fa-4596-af2b-867a12ac4354"
      },
      "outputs": [
        {
          "output_type": "stream",
          "name": "stdout",
          "text": [
            "--2023-07-30 20:25:02--  https://raw.githubusercontent.com/karpathy/char-rnn/master/data/tinyshakespeare/input.txt\n",
            "Resolving raw.githubusercontent.com (raw.githubusercontent.com)... 185.199.108.133, 185.199.109.133, 185.199.110.133, ...\n",
            "Connecting to raw.githubusercontent.com (raw.githubusercontent.com)|185.199.108.133|:443... connected.\n",
            "HTTP request sent, awaiting response... 200 OK\n",
            "Length: 1115394 (1.1M) [text/plain]\n",
            "Saving to: ‘input.txt’\n",
            "\n",
            "input.txt           100%[===================>]   1.06M  --.-KB/s    in 0.05s   \n",
            "\n",
            "2023-07-30 20:25:02 (20.0 MB/s) - ‘input.txt’ saved [1115394/1115394]\n",
            "\n"
          ]
        }
      ],
      "source": [
        "# Get Dataset\n",
        "!wget https://raw.githubusercontent.com/karpathy/char-rnn/master/data/tinyshakespeare/input.txt"
      ]
    },
    {
      "cell_type": "code",
      "source": [
        "# Imports\n",
        "import torch\n",
        "from torch import nn\n",
        "from torch.optim import AdamW\n",
        "from torch.nn import functional as F"
      ],
      "metadata": {
        "id": "6tSxQo5U9mUo"
      },
      "execution_count": 2,
      "outputs": []
    },
    {
      "cell_type": "markdown",
      "source": [
        "# **Data**"
      ],
      "metadata": {
        "id": "fvvHR9esNq6D"
      }
    },
    {
      "cell_type": "code",
      "source": [
        "# Device\n",
        "device = 'cuda:0' if torch.cuda.is_available() else 'cpu'"
      ],
      "metadata": {
        "id": "rQRXbjJy4H3i"
      },
      "execution_count": 3,
      "outputs": []
    },
    {
      "cell_type": "code",
      "source": [
        "# Read Dataset\n",
        "with open('input.txt', 'r', encoding = 'utf-8') as f:\n",
        "    text = f.read()"
      ],
      "metadata": {
        "id": "j9JSaAvszd4H"
      },
      "execution_count": 4,
      "outputs": []
    },
    {
      "cell_type": "code",
      "source": [
        "# Dataset Length\n",
        "len(text)"
      ],
      "metadata": {
        "colab": {
          "base_uri": "https://localhost:8080/"
        },
        "id": "gT3LmTYyzuS2",
        "outputId": "59581000-48a4-40a7-a110-92c1c6442f38"
      },
      "execution_count": 5,
      "outputs": [
        {
          "output_type": "execute_result",
          "data": {
            "text/plain": [
              "1115394"
            ]
          },
          "metadata": {},
          "execution_count": 5
        }
      ]
    },
    {
      "cell_type": "code",
      "source": [
        "# Unique Characters in the Dataset\n",
        "characters = list(set(text))\n",
        "vocab_size = len(characters)\n",
        "print(''.join(sorted(characters)))\n",
        "print(len(characters))"
      ],
      "metadata": {
        "colab": {
          "base_uri": "https://localhost:8080/"
        },
        "id": "coGZloQyz8-U",
        "outputId": "6534c637-57e6-4250-fa23-8f64b6044b62"
      },
      "execution_count": 6,
      "outputs": [
        {
          "output_type": "stream",
          "name": "stdout",
          "text": [
            "\n",
            " !$&',-.3:;?ABCDEFGHIJKLMNOPQRSTUVWXYZabcdefghijklmnopqrstuvwxyz\n",
            "65\n"
          ]
        }
      ]
    },
    {
      "cell_type": "code",
      "source": [
        "# Encode Text\n",
        "mapping = {char:i for i, char in enumerate(characters)}\n",
        "rev_mapping = dict(enumerate(characters))\n",
        "\n",
        "encode_text = lambda string: [mapping[s] for s in string]\n",
        "decode_text = lambda ls: ''.join([rev_mapping[l] for l in ls])\n",
        "\n",
        "# Test\n",
        "print(encode_text('Hi There!'))\n",
        "print(decode_text([57, 39, 29, 38, 4, 42, 14, 42, 55]))"
      ],
      "metadata": {
        "colab": {
          "base_uri": "https://localhost:8080/"
        },
        "id": "ySzNXyug0SCH",
        "outputId": "3833819d-7a73-43d8-91c1-81d548a0d499"
      },
      "execution_count": 7,
      "outputs": [
        {
          "output_type": "stream",
          "name": "stdout",
          "text": [
            "[47, 10, 27, 24, 51, 20, 37, 20, 39]\n",
            "Z!VowfsfQ\n"
          ]
        }
      ]
    },
    {
      "cell_type": "code",
      "source": [
        "# Creating Tensor Dataset of Encoded Text\n",
        "data = torch.tensor(encode_text(text), dtype = torch.long)\n",
        "print(data.shape)"
      ],
      "metadata": {
        "colab": {
          "base_uri": "https://localhost:8080/"
        },
        "id": "FuB7O7Ad0syi",
        "outputId": "b2268060-e891-4cc8-a6c9-309c40514158"
      },
      "execution_count": 8,
      "outputs": [
        {
          "output_type": "stream",
          "name": "stdout",
          "text": [
            "torch.Size([1115394])\n"
          ]
        }
      ]
    },
    {
      "cell_type": "code",
      "source": [
        "# Train Test Split\n",
        "n = int(0.9*(len(data)))\n",
        "train = data[:n]\n",
        "test = data[n:]"
      ],
      "metadata": {
        "id": "lsk4V8oW3EdE"
      },
      "execution_count": 9,
      "outputs": []
    },
    {
      "cell_type": "code",
      "source": [
        "# DataLoader Batch Size\n",
        "batch_size = 4\n",
        "# Maximum Context Length\n",
        "block_size = 8\n",
        "\n",
        "def get_batch(split):\n",
        "    # Get Data\n",
        "    inp = train if split == 'train' else test\n",
        "    # Random Indexes\n",
        "    ix = torch.randint(len(inp)-block_size, (batch_size,))\n",
        "    # x is from i:i+block_size, y is i+1:i_block_size+1\n",
        "    x = torch.stack([inp[i:i+block_size] for i in ix])\n",
        "    y = torch.stack([inp[i+1:i+block_size+1] for i in ix])\n",
        "    return x, y\n",
        "\n",
        "x_batch, y_batch = get_batch('train')\n",
        "for i in range(batch_size):\n",
        "    for j in range(block_size):\n",
        "        context = x_batch[i, :j+1]\n",
        "        target = y_batch[i, j]\n",
        "        print(f'Context is: {context.tolist()}, Target is {target.tolist()}')"
      ],
      "metadata": {
        "colab": {
          "base_uri": "https://localhost:8080/"
        },
        "id": "gFd4dvh95tAp",
        "outputId": "c42858c8-bfc8-44cf-c44e-f7632688cf67"
      },
      "execution_count": 10,
      "outputs": [
        {
          "output_type": "stream",
          "name": "stdout",
          "text": [
            "Context is: [36], Target is 54\n",
            "Context is: [36, 54], Target is 17\n",
            "Context is: [36, 54, 17], Target is 54\n",
            "Context is: [36, 54, 17, 54], Target is 17\n",
            "Context is: [36, 54, 17, 54, 17], Target is 21\n",
            "Context is: [36, 54, 17, 54, 17, 21], Target is 28\n",
            "Context is: [36, 54, 17, 54, 17, 21, 28], Target is 18\n",
            "Context is: [36, 54, 17, 54, 17, 21, 28, 18], Target is 35\n",
            "Context is: [51], Target is 20\n",
            "Context is: [51, 20], Target is 27\n",
            "Context is: [51, 20, 27], Target is 63\n",
            "Context is: [51, 20, 27, 63], Target is 20\n",
            "Context is: [51, 20, 27, 63, 20], Target is 48\n",
            "Context is: [51, 20, 27, 63, 20, 48], Target is 48\n",
            "Context is: [51, 20, 27, 63, 20, 48, 48], Target is 34\n",
            "Context is: [51, 20, 27, 63, 20, 48, 48, 34], Target is 37\n",
            "Context is: [27], Target is 1\n",
            "Context is: [27, 1], Target is 20\n",
            "Context is: [27, 1, 20], Target is 37\n",
            "Context is: [27, 1, 20, 37], Target is 42\n",
            "Context is: [27, 1, 20, 37, 42], Target is 0\n",
            "Context is: [27, 1, 20, 37, 42, 0], Target is 22\n",
            "Context is: [27, 1, 20, 37, 42, 0, 22], Target is 20\n",
            "Context is: [27, 1, 20, 37, 42, 0, 22, 20], Target is 27\n",
            "Context is: [21], Target is 17\n",
            "Context is: [21, 17], Target is 30\n",
            "Context is: [21, 17, 30], Target is 27\n",
            "Context is: [21, 17, 30, 27], Target is 41\n",
            "Context is: [21, 17, 30, 27, 41], Target is 21\n",
            "Context is: [21, 17, 30, 27, 41, 21], Target is 26\n",
            "Context is: [21, 17, 30, 27, 41, 21, 26], Target is 47\n",
            "Context is: [21, 17, 30, 27, 41, 21, 26, 47], Target is 50\n"
          ]
        }
      ]
    },
    {
      "cell_type": "markdown",
      "source": [
        "# **Bigram Language Model**"
      ],
      "metadata": {
        "id": "KVYFnCuGNvLC"
      }
    },
    {
      "cell_type": "code",
      "source": [
        "# Seed\n",
        "torch.manual_seed(1337)\n",
        "\n",
        "# Bigram Model\n",
        "class BigramLanguageModel(nn.Module):\n",
        "    def __init__(self, vocab_size, n_embed = 32):\n",
        "        super(BigramLanguageModel, self).__init__()\n",
        "        # Each Token Reads a Row From The Table\n",
        "        self.token_embedding_table = nn.Embedding(vocab_size, n_embed)\n",
        "        self.lm_head = nn.Linear(n_embed, vocab_size)\n",
        "\n",
        "    def forward(self, context, targets = None):\n",
        "\n",
        "        # (B,T,C)\n",
        "        token_embed = self.token_embedding_table(context)\n",
        "        # Logits (batch_size, block_size, vocab_size)\n",
        "        logits = self.lm_head(token_embed)\n",
        "\n",
        "        # Loss\n",
        "        if targets == None:\n",
        "            loss = None\n",
        "        else:\n",
        "            # Get batch_size, block_size, vocab_size\n",
        "            B, T, C = logits.shape\n",
        "            # Reshape\n",
        "            logits = logits.view(B*T, C)\n",
        "            targets = targets.view(B*T,)\n",
        "            # Calculate Loss\n",
        "            loss = F.cross_entropy(logits, targets)\n",
        "\n",
        "        return logits, loss\n",
        "\n",
        "    def generate(self, context, max_new_tokens):\n",
        "        # Iterating Through Number of Tokens To Generate\n",
        "        for _ in range(max_new_tokens):\n",
        "            # Get Predictions\n",
        "            logits, loss = self(context)\n",
        "            # Get Last Block (Time Step)\n",
        "            logits = logits[:, -1, :]\n",
        "            # Probability\n",
        "            probs = F.softmax(logits, dim = -1)\n",
        "            # Sample From The Distribution\n",
        "            context_next = torch.multinomial(probs, num_samples = 1)\n",
        "            # Append\n",
        "            context = torch.cat((context, context_next), dim = 1)\n",
        "\n",
        "        return context"
      ],
      "metadata": {
        "id": "JDfNSaSXditu"
      },
      "execution_count": 11,
      "outputs": []
    },
    {
      "cell_type": "code",
      "source": [
        "# Test Bigram\n",
        "model = BigramLanguageModel(vocab_size).to(device)\n",
        "logits, loss = model(x_batch.to(device), y_batch.to(device))\n",
        "print(decode_text(model.generate(context = torch.zeros((1, 1), dtype=torch.long).to(device), max_new_tokens=100)[0].tolist()))"
      ],
      "metadata": {
        "colab": {
          "base_uri": "https://localhost:8080/"
        },
        "id": "piaGrlXHf20G",
        "outputId": "825b2261-22c6-4801-8db2-e6a019f32f1b"
      },
      "execution_count": 12,
      "outputs": [
        {
          "output_type": "stream",
          "name": "stdout",
          "text": [
            "uKQ$d.PJyGoyCfRW'$\n",
            "ozy T l\n",
            "t3DjuueQUg3yFsPBBn?iM!qc, O;;gFsSK,!z!kYMSraMmDEMtCk'QRs3.c&DK!SpfMA?Jo!Bt\n"
          ]
        }
      ]
    },
    {
      "cell_type": "code",
      "source": [
        "# Optimizer\n",
        "opt = AdamW(model.parameters(), lr = 1e-3)"
      ],
      "metadata": {
        "id": "oSXm3xZzjYSw"
      },
      "execution_count": 13,
      "outputs": []
    },
    {
      "cell_type": "code",
      "source": [
        "# Train BigramLanguageModel\n",
        "print_freq = 100\n",
        "batch_size = 32\n",
        "for epoch in range(3000):\n",
        "    # Get Batch\n",
        "    x, y = get_batch('train')\n",
        "    x, y = x.to(device), y.to(device)\n",
        "\n",
        "    # Forward\n",
        "    logits, loss = model(x, y)\n",
        "\n",
        "    # Backward\n",
        "    opt.zero_grad(set_to_none=True)\n",
        "    loss.backward()\n",
        "    opt.step()\n",
        "\n",
        "    if epoch%print_freq == 0:\n",
        "        print(f'Epoch: {epoch}, Loss: {loss.item()}')"
      ],
      "metadata": {
        "colab": {
          "base_uri": "https://localhost:8080/"
        },
        "id": "FVBJn5WnxfQS",
        "outputId": "c4e736c1-6c94-4b58-ad1a-077a5d8a9567"
      },
      "execution_count": 14,
      "outputs": [
        {
          "output_type": "stream",
          "name": "stdout",
          "text": [
            "Epoch: 0, Loss: 4.3982768058776855\n",
            "Epoch: 100, Loss: 3.546319007873535\n",
            "Epoch: 200, Loss: 3.209672212600708\n",
            "Epoch: 300, Loss: 2.860365867614746\n",
            "Epoch: 400, Loss: 2.7121753692626953\n",
            "Epoch: 500, Loss: 2.748335361480713\n",
            "Epoch: 600, Loss: 2.6707661151885986\n",
            "Epoch: 700, Loss: 2.6101510524749756\n",
            "Epoch: 800, Loss: 2.591538667678833\n",
            "Epoch: 900, Loss: 2.5113446712493896\n",
            "Epoch: 1000, Loss: 2.410372734069824\n",
            "Epoch: 1100, Loss: 2.5149483680725098\n",
            "Epoch: 1200, Loss: 2.5553746223449707\n",
            "Epoch: 1300, Loss: 2.446303129196167\n",
            "Epoch: 1400, Loss: 2.5367698669433594\n",
            "Epoch: 1500, Loss: 2.590524435043335\n",
            "Epoch: 1600, Loss: 2.4860634803771973\n",
            "Epoch: 1700, Loss: 2.567815065383911\n",
            "Epoch: 1800, Loss: 2.5266618728637695\n",
            "Epoch: 1900, Loss: 2.5463438034057617\n",
            "Epoch: 2000, Loss: 2.5486667156219482\n",
            "Epoch: 2100, Loss: 2.4841928482055664\n",
            "Epoch: 2200, Loss: 2.43172025680542\n",
            "Epoch: 2300, Loss: 2.42266845703125\n",
            "Epoch: 2400, Loss: 2.507502555847168\n",
            "Epoch: 2500, Loss: 2.4707658290863037\n",
            "Epoch: 2600, Loss: 2.467198610305786\n",
            "Epoch: 2700, Loss: 2.5173985958099365\n",
            "Epoch: 2800, Loss: 2.561692714691162\n",
            "Epoch: 2900, Loss: 2.5239028930664062\n"
          ]
        }
      ]
    },
    {
      "cell_type": "code",
      "source": [
        "print(decode_text(model.generate(context = torch.zeros((1, 1), dtype=torch.long).to(device), max_new_tokens=50)[0].tolist()))"
      ],
      "metadata": {
        "colab": {
          "base_uri": "https://localhost:8080/"
        },
        "id": "mPlBSRha6MRQ",
        "outputId": "bef7c602-3a64-4e3f-d9e7-3c271175ec16"
      },
      "execution_count": 15,
      "outputs": [
        {
          "output_type": "stream",
          "name": "stdout",
          "text": [
            "ue 's e'son s llolame-y hoourad wns thare tsersa s:\n"
          ]
        }
      ]
    },
    {
      "cell_type": "markdown",
      "source": [
        "# **Attention**"
      ],
      "metadata": {
        "id": "dzcnXtebNz8Y"
      }
    },
    {
      "cell_type": "code",
      "source": [
        "B, T, C = 4, 8, 2\n",
        "x = torch.randn(B,T,C)\n",
        "x.shape"
      ],
      "metadata": {
        "colab": {
          "base_uri": "https://localhost:8080/"
        },
        "id": "IGhelxltN3BD",
        "outputId": "986554c0-45f2-4eef-b9b8-1a5feaade1fe"
      },
      "execution_count": 16,
      "outputs": [
        {
          "output_type": "execute_result",
          "data": {
            "text/plain": [
              "torch.Size([4, 8, 2])"
            ]
          },
          "metadata": {},
          "execution_count": 16
        }
      ]
    },
    {
      "cell_type": "code",
      "source": [
        "# v1\n",
        "x_bow = torch.zeros((B,T,C))\n",
        "for i in range(B):\n",
        "    for j in range(T):\n",
        "        x_prev = x[i, :j,]\n",
        "        x_bow[i, j] = torch.mean(x_prev, 0)\n",
        "print(x_bow.shape)"
      ],
      "metadata": {
        "colab": {
          "base_uri": "https://localhost:8080/"
        },
        "id": "xjCkrF2yOeUT",
        "outputId": "fd6ab0ee-0120-4232-d137-446ba116bebc"
      },
      "execution_count": 17,
      "outputs": [
        {
          "output_type": "stream",
          "name": "stdout",
          "text": [
            "torch.Size([4, 8, 2])\n"
          ]
        }
      ]
    },
    {
      "cell_type": "code",
      "source": [
        "# Matrix Mul Weighted Avg\n",
        "a = torch.tril(torch.ones((3,3)))\n",
        "a = a/torch.sum(a, 1, keepdim = True)\n",
        "b = torch.randint(0, 10, (3,2)).float()\n",
        "c = a@b\n",
        "print(a)\n",
        "print(b)\n",
        "print(c)"
      ],
      "metadata": {
        "colab": {
          "base_uri": "https://localhost:8080/"
        },
        "id": "eQBh_ae6QTHw",
        "outputId": "7774efe6-eeed-4c65-816b-7bdcef7edd55"
      },
      "execution_count": 18,
      "outputs": [
        {
          "output_type": "stream",
          "name": "stdout",
          "text": [
            "tensor([[1.0000, 0.0000, 0.0000],\n",
            "        [0.5000, 0.5000, 0.0000],\n",
            "        [0.3333, 0.3333, 0.3333]])\n",
            "tensor([[2., 4.],\n",
            "        [5., 2.],\n",
            "        [7., 5.]])\n",
            "tensor([[2.0000, 4.0000],\n",
            "        [3.5000, 3.0000],\n",
            "        [4.6667, 3.6667]])\n"
          ]
        }
      ]
    },
    {
      "cell_type": "code",
      "source": [
        "# v2\n",
        "weights = torch.tril(torch.ones((T,T)))\n",
        "weights = weights/torch.sum(weights, 1, keepdim = True)\n",
        "# (T,T)@(B,T,C) -> (B,T,T)@(B,T,C) -> (B,T,C)\n",
        "x_bow2 = weights @ x\n",
        "print(x_bow2.shape)"
      ],
      "metadata": {
        "colab": {
          "base_uri": "https://localhost:8080/"
        },
        "id": "kPmsZeGRRr78",
        "outputId": "c2fcb977-d617-47ef-c8bc-97fe1d140aca"
      },
      "execution_count": 19,
      "outputs": [
        {
          "output_type": "stream",
          "name": "stdout",
          "text": [
            "torch.Size([4, 8, 2])\n"
          ]
        }
      ]
    },
    {
      "cell_type": "code",
      "source": [
        "# v3\n",
        "tril = torch.tril(torch.ones(T,T))\n",
        "wei = torch.zeros(T,T)\n",
        "wei = wei.masked_fill(tril == 0, float('-inf'))\n",
        "wei = F.softmax(wei, dim = -1)\n",
        "x_bow3 = wei@x"
      ],
      "metadata": {
        "id": "DU3tzq8FT2Tj"
      },
      "execution_count": 20,
      "outputs": []
    },
    {
      "cell_type": "code",
      "source": [
        "# v4\n",
        "B,T,C = 4,8,32\n",
        "x = torch.randn(4,8,32)\n",
        "\n",
        "tril = torch.tril(torch.ones(T,T))\n",
        "wei = torch.zeros(T,T)\n",
        "wei = wei.masked_fill(tril == 0, float('-inf'))\n",
        "wei = F.softmax(wei, dim = -1)\n",
        "x_bow3 = wei@x"
      ],
      "metadata": {
        "id": "nQMx8uOgYbKh"
      },
      "execution_count": 20,
      "outputs": []
    }
  ]
}