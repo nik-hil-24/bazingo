{
  "nbformat": 4,
  "nbformat_minor": 0,
  "metadata": {
    "colab": {
      "provenance": [],
      "gpuType": "T4",
      "collapsed_sections": [
        "dA4LbMFjZCxB",
        "S8uclr2UD_av"
      ],
      "authorship_tag": "ABX9TyOWf+xmKo0dy93zQIul7tms"
    },
    "kernelspec": {
      "name": "python3",
      "display_name": "Python 3"
    },
    "language_info": {
      "name": "python"
    },
    "accelerator": "GPU"
  },
  "cells": [
    {
      "cell_type": "markdown",
      "source": [
        "# **Bigram Model**"
      ],
      "metadata": {
        "id": "gY-auFxHZVuY"
      }
    },
    {
      "cell_type": "code",
      "source": [
        "# Imports\n",
        "import torch\n",
        "from torch import nn\n",
        "from torch.optim import AdamW\n",
        "from torch.nn import functional as F"
      ],
      "metadata": {
        "id": "6tSxQo5U9mUo"
      },
      "execution_count": 2,
      "outputs": []
    },
    {
      "cell_type": "markdown",
      "source": [
        "**Params**"
      ],
      "metadata": {
        "id": "2wxtdW7tZguL"
      }
    },
    {
      "cell_type": "code",
      "source": [
        "# Seed\n",
        "torch.manual_seed(1337)\n",
        "# Device\n",
        "device = 'cuda:0' if torch.cuda.is_available() else 'cpu'\n",
        "# DataLoader Batch Size\n",
        "batch_size = 16\n",
        "# Maximum Context Length\n",
        "block_size = 32\n",
        "# Embedding Size\n",
        "n_embed = 64\n",
        "# Print Frequency\n",
        "print_freq = 500\n",
        "# Epochs\n",
        "epochs = 5000\n",
        "# Learning Rate\n",
        "lr = 1e-3"
      ],
      "metadata": {
        "id": "rQRXbjJy4H3i"
      },
      "execution_count": 3,
      "outputs": []
    },
    {
      "cell_type": "markdown",
      "source": [
        "**Data**"
      ],
      "metadata": {
        "id": "shAzEZd1Zjk9"
      }
    },
    {
      "cell_type": "code",
      "source": [
        "# Read Dataset\n",
        "with open('input.txt', 'r', encoding = 'utf-8') as f:\n",
        "    text = f.read()"
      ],
      "metadata": {
        "id": "j9JSaAvszd4H"
      },
      "execution_count": 4,
      "outputs": []
    },
    {
      "cell_type": "code",
      "source": [
        "# Dataset Length\n",
        "len(text)"
      ],
      "metadata": {
        "colab": {
          "base_uri": "https://localhost:8080/"
        },
        "id": "gT3LmTYyzuS2",
        "outputId": "64cbdc7f-4c96-4538-8684-ad40a5f26a06"
      },
      "execution_count": 5,
      "outputs": [
        {
          "output_type": "execute_result",
          "data": {
            "text/plain": [
              "1115394"
            ]
          },
          "metadata": {},
          "execution_count": 5
        }
      ]
    },
    {
      "cell_type": "code",
      "source": [
        "# Unique Characters in the Dataset\n",
        "characters = list(set(text))\n",
        "vocab_size = len(characters)\n",
        "print(''.join(sorted(characters)))\n",
        "print(len(characters))"
      ],
      "metadata": {
        "colab": {
          "base_uri": "https://localhost:8080/"
        },
        "id": "coGZloQyz8-U",
        "outputId": "877345f1-316b-4d36-c6e0-0672afd2d176"
      },
      "execution_count": 6,
      "outputs": [
        {
          "output_type": "stream",
          "name": "stdout",
          "text": [
            "\n",
            " !$&',-.3:;?ABCDEFGHIJKLMNOPQRSTUVWXYZabcdefghijklmnopqrstuvwxyz\n",
            "65\n"
          ]
        }
      ]
    },
    {
      "cell_type": "code",
      "source": [
        "# Encode Text\n",
        "mapping = {char:i for i, char in enumerate(characters)}\n",
        "rev_mapping = dict(enumerate(characters))\n",
        "\n",
        "encode_text = lambda string: [mapping[s] for s in string]\n",
        "decode_text = lambda ls: ''.join([rev_mapping[l] for l in ls])\n",
        "\n",
        "# Test\n",
        "print(encode_text('Hi There!'))\n",
        "print(decode_text([57, 39, 29, 38, 4, 42, 14, 42, 55]))"
      ],
      "metadata": {
        "colab": {
          "base_uri": "https://localhost:8080/"
        },
        "id": "ySzNXyug0SCH",
        "outputId": "cbb83cb3-99ae-4bd4-fd0d-e76d61027aa9"
      },
      "execution_count": 7,
      "outputs": [
        {
          "output_type": "stream",
          "name": "stdout",
          "text": [
            "[54, 11, 26, 32, 29, 23, 49, 23, 22]\n",
            "PIhBO'w'k\n"
          ]
        }
      ]
    },
    {
      "cell_type": "code",
      "source": [
        "# Creating Tensor Dataset of Encoded Text\n",
        "data = torch.tensor(encode_text(text), dtype = torch.long)\n",
        "print(data.shape)"
      ],
      "metadata": {
        "colab": {
          "base_uri": "https://localhost:8080/"
        },
        "id": "FuB7O7Ad0syi",
        "outputId": "ed8b223f-d40f-4b20-869d-ddb14278ef5d"
      },
      "execution_count": 8,
      "outputs": [
        {
          "output_type": "stream",
          "name": "stdout",
          "text": [
            "torch.Size([1115394])\n"
          ]
        }
      ]
    },
    {
      "cell_type": "code",
      "source": [
        "# Train Test Split\n",
        "n = int(0.9*(len(data)))\n",
        "train = data[:n]\n",
        "test = data[n:]"
      ],
      "metadata": {
        "id": "lsk4V8oW3EdE"
      },
      "execution_count": 9,
      "outputs": []
    },
    {
      "cell_type": "code",
      "source": [
        "def get_batch(split):\n",
        "    # Get Data\n",
        "    inp = train if split == 'train' else test\n",
        "    # Random Indexes\n",
        "    ix = torch.randint(len(inp)-block_size, (batch_size,))\n",
        "    # x is from i:i+block_size, y is i+1:i_block_size+1\n",
        "    x = torch.stack([inp[i:i+block_size] for i in ix])\n",
        "    y = torch.stack([inp[i+1:i+block_size+1] for i in ix])\n",
        "    return x, y\n",
        "\n",
        "x_batch, y_batch = get_batch('train')"
      ],
      "metadata": {
        "id": "gFd4dvh95tAp"
      },
      "execution_count": 10,
      "outputs": []
    },
    {
      "cell_type": "markdown",
      "source": [
        "**Bigram Language Model**"
      ],
      "metadata": {
        "id": "KVYFnCuGNvLC"
      }
    },
    {
      "cell_type": "code",
      "source": [
        "# Bigram Model\n",
        "class BigramLanguageModel(nn.Module):\n",
        "    def __init__(self, vocab_size, n_embed):\n",
        "        super(BigramLanguageModel, self).__init__()\n",
        "        # Each Token Reads a Row From The Table\n",
        "        self.token_embedding_table = nn.Embedding(vocab_size, n_embed)\n",
        "        self.lm_head = nn.Linear(n_embed, vocab_size)\n",
        "\n",
        "    def forward(self, context, targets = None):\n",
        "\n",
        "        # (B,T,C)\n",
        "        token_embed = self.token_embedding_table(context)\n",
        "        # Logits (batch_size, block_size, vocab_size)\n",
        "        logits = self.lm_head(token_embed)\n",
        "\n",
        "        # Loss\n",
        "        if targets == None:\n",
        "            loss = None\n",
        "        else:\n",
        "            # Get batch_size, block_size, vocab_size\n",
        "            B, T, C = logits.shape\n",
        "            # Reshape\n",
        "            logits = logits.view(B*T, C)\n",
        "            targets = targets.view(B*T,)\n",
        "            # Calculate Loss\n",
        "            loss = F.cross_entropy(logits, targets)\n",
        "\n",
        "        return logits, loss\n",
        "\n",
        "    def generate(self, context, max_new_tokens):\n",
        "        # Iterating Through Number of Tokens To Generate\n",
        "        for _ in range(max_new_tokens):\n",
        "            # Get Predictions\n",
        "            logits, loss = self(context)\n",
        "            # Get Last Block (Time Step)\n",
        "            logits = logits[:, -1, :]\n",
        "            # Probability\n",
        "            probs = F.softmax(logits, dim = -1)\n",
        "            # Sample From The Distribution\n",
        "            context_next = torch.multinomial(probs, num_samples = 1)\n",
        "            # Append\n",
        "            context = torch.cat((context, context_next), dim = 1)\n",
        "\n",
        "        return context"
      ],
      "metadata": {
        "id": "JDfNSaSXditu"
      },
      "execution_count": 11,
      "outputs": []
    },
    {
      "cell_type": "code",
      "source": [
        "# Test Bigram\n",
        "model = BigramLanguageModel(vocab_size, n_embed).to(device)\n",
        "context = torch.zeros((1, 1), dtype = torch.long).to(device)\n",
        "print(decode_text(model.generate(context = context, max_new_tokens = 500)[0].tolist()))"
      ],
      "metadata": {
        "colab": {
          "base_uri": "https://localhost:8080/"
        },
        "id": "piaGrlXHf20G",
        "outputId": "70730e01-c734-483e-810c-e74638a065c7"
      },
      "execution_count": 12,
      "outputs": [
        {
          "output_type": "stream",
          "name": "stdout",
          "text": [
            "aF.NiUcYEvBr dEDdNJBTUoWnTJUcPeacf,AGjr-wcswl&f;IRCSo3&YQ-f'F.WTIa?McKyMcnH   zdkEo-UC;pFNn:'M.VnXI G zd&EXAHv\n",
            "NxNYZBuKbUsjl zMaKbdOlW-$bNzg'qqwc,Om,l\n",
            "ieqi. BJeG&:gUdGKZKu?Egei.U\n",
            "iXn.g.VbC:ZPRMXwQk\n",
            "r:!;KCn\n",
            ";. \n",
            "QcP,$G.!.QunL$ihz;X3gzY&kEyEdxc fA$zxi-ogTDM&$dpL;X!.xwA$Xq;LwaTHQK3g-xqZQkAfkfLqr!'. wpRrr.e v\n",
            "3jPbnh?'yjGqgc&kUDTRpCON-UXBWZTU ew?hkenQSH3WeeSmG3UT&Xa?mHro'toxOVzN\n",
            "ON:Dbii&ihYW\n",
            "TtfNxCJQGLlN.-$SlTdJN-N-AVYF$S\n",
            "WRF\n",
            ";$VXe3 Wch,IVJ LcOKOfaRV'$Ic\n",
            "Bl,OZzYUXKwxzg?ye ;rF\n",
            "$VIhuLXvVUJpPNEONx:yZE, -!\n"
          ]
        }
      ]
    },
    {
      "cell_type": "code",
      "source": [
        "# Optimizer\n",
        "opt = AdamW(model.parameters(), lr = lr)"
      ],
      "metadata": {
        "id": "oSXm3xZzjYSw"
      },
      "execution_count": 13,
      "outputs": []
    },
    {
      "cell_type": "code",
      "source": [
        "# Train BigramLanguageModel\n",
        "for epoch in range(epochs):\n",
        "    # Get Batch\n",
        "    x, y = get_batch('train')\n",
        "    x, y = x.to(device), y.to(device)\n",
        "\n",
        "    # Forward\n",
        "    logits, loss = model(x, y)\n",
        "\n",
        "    # Backward\n",
        "    opt.zero_grad(set_to_none = True)\n",
        "    loss.backward()\n",
        "    opt.step()\n",
        "\n",
        "    if epoch%print_freq == 0:\n",
        "        print(f'Epoch: {epoch}, Loss: {loss.item()}')\n",
        "\n",
        "context = torch.zeros((1, 1), dtype = torch.long).to(device)\n",
        "print(decode_text(model.generate(context = context, max_new_tokens = 500)[0].tolist()))"
      ],
      "metadata": {
        "colab": {
          "base_uri": "https://localhost:8080/"
        },
        "id": "FVBJn5WnxfQS",
        "outputId": "7a396f8a-4303-4a59-9035-e938f19d8804"
      },
      "execution_count": 14,
      "outputs": [
        {
          "output_type": "stream",
          "name": "stdout",
          "text": [
            "Epoch: 0, Loss: 4.355591297149658\n",
            "Epoch: 500, Loss: 2.5242409706115723\n",
            "Epoch: 1000, Loss: 2.447714328765869\n",
            "Epoch: 1500, Loss: 2.4967148303985596\n",
            "Epoch: 2000, Loss: 2.4841816425323486\n",
            "Epoch: 2500, Loss: 2.497438907623291\n",
            "Epoch: 3000, Loss: 2.5219507217407227\n",
            "Epoch: 3500, Loss: 2.5380187034606934\n",
            "Epoch: 4000, Loss: 2.4421045780181885\n",
            "Epoch: 4500, Loss: 2.432539463043213\n",
            "arou is thrivees;\n",
            "\n",
            "KINofiesivenst:\n",
            "Thewint\n",
            "Pl t he t cend ath mank!\n",
            "Andlosie ou weau one t byoor atavise, ft t RKIOLINSAct at mintherte edowrofr wses ame an bu plent'd w, aves ntherth tieneitof gron me\n",
            "UMongveelin fercle jo his Anduge t bighavee ullt beran y f wicink is\n",
            "SThe m st deat:\n",
            "Thod fowotha nthass,  at. wo oungeaso nd athost my s t trachelalald uth dis\n",
            "We ten woms by, gourepe bu he to:\n",
            "Lot levitipon sh dwempe h htoflsastowel.\n",
            "AR: t heerome oundind clot d pearantal\n",
            "KI agounin,ikin rs he ti\n"
          ]
        }
      ]
    },
    {
      "cell_type": "markdown",
      "source": [
        "# **Attention**"
      ],
      "metadata": {
        "id": "dA4LbMFjZCxB"
      }
    },
    {
      "cell_type": "code",
      "source": [
        "B, T, C = 4, 8, 2\n",
        "x = torch.randn(B,T,C)\n",
        "x.shape"
      ],
      "metadata": {
        "colab": {
          "base_uri": "https://localhost:8080/"
        },
        "id": "IGhelxltN3BD",
        "outputId": "65a48dce-892b-4676-87c2-d7be2a6b53ee"
      },
      "execution_count": 15,
      "outputs": [
        {
          "output_type": "execute_result",
          "data": {
            "text/plain": [
              "torch.Size([4, 8, 2])"
            ]
          },
          "metadata": {},
          "execution_count": 15
        }
      ]
    },
    {
      "cell_type": "code",
      "source": [
        "# v1\n",
        "x_bow = torch.zeros((B,T,C))\n",
        "for i in range(B):\n",
        "    for j in range(T):\n",
        "        x_prev = x[i, :j,]\n",
        "        x_bow[i, j] = torch.mean(x_prev, 0)\n",
        "print(x_bow.shape)"
      ],
      "metadata": {
        "colab": {
          "base_uri": "https://localhost:8080/"
        },
        "id": "xjCkrF2yOeUT",
        "outputId": "0e3675f2-ef50-4d1a-8f07-7bc1032bb6fc"
      },
      "execution_count": 16,
      "outputs": [
        {
          "output_type": "stream",
          "name": "stdout",
          "text": [
            "torch.Size([4, 8, 2])\n"
          ]
        }
      ]
    },
    {
      "cell_type": "code",
      "source": [
        "# Matrix Mul Weighted Avg\n",
        "a = torch.tril(torch.ones((3,3)))\n",
        "a = a/torch.sum(a, 1, keepdim = True)\n",
        "b = torch.randint(0, 10, (3,2)).float()\n",
        "c = a@b\n",
        "print(a)\n",
        "print(b)\n",
        "print(c)"
      ],
      "metadata": {
        "colab": {
          "base_uri": "https://localhost:8080/"
        },
        "id": "eQBh_ae6QTHw",
        "outputId": "1f1204de-9bec-4d4c-9c14-c9f674e66fb8"
      },
      "execution_count": 17,
      "outputs": [
        {
          "output_type": "stream",
          "name": "stdout",
          "text": [
            "tensor([[1.0000, 0.0000, 0.0000],\n",
            "        [0.5000, 0.5000, 0.0000],\n",
            "        [0.3333, 0.3333, 0.3333]])\n",
            "tensor([[2., 5.],\n",
            "        [5., 1.],\n",
            "        [5., 9.]])\n",
            "tensor([[2.0000, 5.0000],\n",
            "        [3.5000, 3.0000],\n",
            "        [4.0000, 5.0000]])\n"
          ]
        }
      ]
    },
    {
      "cell_type": "code",
      "source": [
        "# v2\n",
        "weights = torch.tril(torch.ones((T,T)))\n",
        "weights = weights/torch.sum(weights, 1, keepdim = True)\n",
        "# (T,T)@(B,T,C) -> (B,T,T)@(B,T,C) -> (B,T,C)\n",
        "x_bow2 = weights @ x\n",
        "print(x_bow2.shape)"
      ],
      "metadata": {
        "colab": {
          "base_uri": "https://localhost:8080/"
        },
        "id": "kPmsZeGRRr78",
        "outputId": "5e526fbd-439c-427d-c135-81dd37a67bb1"
      },
      "execution_count": 18,
      "outputs": [
        {
          "output_type": "stream",
          "name": "stdout",
          "text": [
            "torch.Size([4, 8, 2])\n"
          ]
        }
      ]
    },
    {
      "cell_type": "code",
      "source": [
        "# v3\n",
        "tril = torch.tril(torch.ones(T,T))\n",
        "wei = torch.zeros(T,T)\n",
        "wei = wei.masked_fill(tril == 0, float('-inf'))\n",
        "wei = F.softmax(wei, dim = -1)\n",
        "x_bow3 = wei@x"
      ],
      "metadata": {
        "id": "DU3tzq8FT2Tj"
      },
      "execution_count": 19,
      "outputs": []
    },
    {
      "cell_type": "code",
      "source": [
        "# v4\n",
        "B,T,C = 4,8,32\n",
        "head_size = 16\n",
        "x = torch.randn(4,8,32)\n",
        "\n",
        "key = nn.Linear(C, head_size, bias = False)\n",
        "query = nn.Linear(C, head_size, bias = False)\n",
        "value = nn.Linear(C, head_size, bias = False)\n",
        "\n",
        "k = key(x)\n",
        "q = query(x)\n",
        "v = value(x)\n",
        "\n",
        "wei = q @ k.transpose(-2,-1)\n",
        "\n",
        "tril = torch.tril(torch.ones(T,T))\n",
        "wei = wei.masked_fill(tril == 0, float('-inf'))\n",
        "wei = F.softmax(wei, dim = -1)\n",
        "x_bow4 = wei@v\n",
        "wei"
      ],
      "metadata": {
        "colab": {
          "base_uri": "https://localhost:8080/"
        },
        "id": "nQMx8uOgYbKh",
        "outputId": "00892706-0aba-4611-86c1-8d97160b73f9"
      },
      "execution_count": 20,
      "outputs": [
        {
          "output_type": "execute_result",
          "data": {
            "text/plain": [
              "tensor([[[1.0000, 0.0000, 0.0000, 0.0000, 0.0000, 0.0000, 0.0000, 0.0000],\n",
              "         [0.6995, 0.3005, 0.0000, 0.0000, 0.0000, 0.0000, 0.0000, 0.0000],\n",
              "         [0.4911, 0.1025, 0.4064, 0.0000, 0.0000, 0.0000, 0.0000, 0.0000],\n",
              "         [0.2578, 0.4585, 0.1924, 0.0914, 0.0000, 0.0000, 0.0000, 0.0000],\n",
              "         [0.0679, 0.2991, 0.2730, 0.1803, 0.1797, 0.0000, 0.0000, 0.0000],\n",
              "         [0.0414, 0.0262, 0.1673, 0.0914, 0.6451, 0.0287, 0.0000, 0.0000],\n",
              "         [0.0198, 0.6976, 0.0092, 0.0054, 0.0036, 0.0156, 0.2488, 0.0000],\n",
              "         [0.0829, 0.0153, 0.0221, 0.1862, 0.0398, 0.5774, 0.0631, 0.0132]],\n",
              "\n",
              "        [[1.0000, 0.0000, 0.0000, 0.0000, 0.0000, 0.0000, 0.0000, 0.0000],\n",
              "         [0.1648, 0.8352, 0.0000, 0.0000, 0.0000, 0.0000, 0.0000, 0.0000],\n",
              "         [0.5472, 0.2831, 0.1698, 0.0000, 0.0000, 0.0000, 0.0000, 0.0000],\n",
              "         [0.2182, 0.3037, 0.2606, 0.2175, 0.0000, 0.0000, 0.0000, 0.0000],\n",
              "         [0.0924, 0.2608, 0.1824, 0.0544, 0.4100, 0.0000, 0.0000, 0.0000],\n",
              "         [0.3215, 0.0187, 0.3275, 0.1449, 0.0137, 0.1737, 0.0000, 0.0000],\n",
              "         [0.0659, 0.3547, 0.0622, 0.0980, 0.2192, 0.1637, 0.0364, 0.0000],\n",
              "         [0.0405, 0.0032, 0.0069, 0.7527, 0.0219, 0.0099, 0.1602, 0.0048]],\n",
              "\n",
              "        [[1.0000, 0.0000, 0.0000, 0.0000, 0.0000, 0.0000, 0.0000, 0.0000],\n",
              "         [0.7303, 0.2697, 0.0000, 0.0000, 0.0000, 0.0000, 0.0000, 0.0000],\n",
              "         [0.6984, 0.1873, 0.1143, 0.0000, 0.0000, 0.0000, 0.0000, 0.0000],\n",
              "         [0.1958, 0.3974, 0.1823, 0.2244, 0.0000, 0.0000, 0.0000, 0.0000],\n",
              "         [0.0884, 0.2401, 0.2153, 0.0808, 0.3755, 0.0000, 0.0000, 0.0000],\n",
              "         [0.1710, 0.2242, 0.1342, 0.0452, 0.2891, 0.1364, 0.0000, 0.0000],\n",
              "         [0.0402, 0.0400, 0.5005, 0.0869, 0.0600, 0.0833, 0.1891, 0.0000],\n",
              "         [0.0213, 0.0851, 0.3594, 0.0589, 0.3863, 0.0197, 0.0493, 0.0201]],\n",
              "\n",
              "        [[1.0000, 0.0000, 0.0000, 0.0000, 0.0000, 0.0000, 0.0000, 0.0000],\n",
              "         [0.6843, 0.3157, 0.0000, 0.0000, 0.0000, 0.0000, 0.0000, 0.0000],\n",
              "         [0.0610, 0.1721, 0.7669, 0.0000, 0.0000, 0.0000, 0.0000, 0.0000],\n",
              "         [0.1289, 0.1117, 0.3834, 0.3759, 0.0000, 0.0000, 0.0000, 0.0000],\n",
              "         [0.0187, 0.0377, 0.6332, 0.0203, 0.2902, 0.0000, 0.0000, 0.0000],\n",
              "         [0.1144, 0.0655, 0.0083, 0.6400, 0.0523, 0.1195, 0.0000, 0.0000],\n",
              "         [0.0355, 0.1163, 0.0253, 0.0885, 0.1309, 0.0401, 0.5633, 0.0000],\n",
              "         [0.1935, 0.2013, 0.1072, 0.0765, 0.0318, 0.0655, 0.0299, 0.2942]]],\n",
              "       grad_fn=<SoftmaxBackward0>)"
            ]
          },
          "metadata": {},
          "execution_count": 20
        }
      ]
    },
    {
      "cell_type": "markdown",
      "source": [
        "# **Transformer Model**"
      ],
      "metadata": {
        "id": "S8uclr2UD_av"
      }
    },
    {
      "cell_type": "markdown",
      "source": [
        "**Params**"
      ],
      "metadata": {
        "id": "lMX60q78Xz69"
      }
    },
    {
      "cell_type": "code",
      "source": [
        "# Seed\n",
        "torch.manual_seed(1337)\n",
        "# Device\n",
        "device = 'cuda:0' if torch.cuda.is_available() else 'cpu'\n",
        "# Batch Size\n",
        "BATCH_SIZE = 16\n",
        "# Maximum Context Length\n",
        "BLOCK_SIZE = 32\n",
        "# Embedding Size\n",
        "N_EMBED = 64\n",
        "# Number of Layers of Transformer Block\n",
        "N_LAYERS = 6\n",
        "# Number of MHA Heads\n",
        "NUM_HEADS = 6\n",
        "# Dropout\n",
        "DROPOUT = 0.0\n",
        "# Printing Frequency\n",
        "PRINT_FREQ = 500\n",
        "# Epochs\n",
        "EPOCHS = 5000\n",
        "# Learning Rate\n",
        "LR = 1e-3"
      ],
      "metadata": {
        "id": "b2f06C2jXv_x"
      },
      "execution_count": 21,
      "outputs": []
    },
    {
      "cell_type": "markdown",
      "source": [
        "**Data**"
      ],
      "metadata": {
        "id": "F0E4IqLzX3ff"
      }
    },
    {
      "cell_type": "code",
      "source": [
        "# Read Dataset\n",
        "with open('input.txt', 'r', encoding = 'utf-8') as f:\n",
        "    text = f.read()"
      ],
      "metadata": {
        "id": "AOiwooOAX6o6"
      },
      "execution_count": 22,
      "outputs": []
    },
    {
      "cell_type": "code",
      "source": [
        "# Unique Characters in the Dataset\n",
        "characters = list(set(text))\n",
        "VOCAB_SIZE = len(characters)\n",
        "print(''.join(sorted(characters)))\n",
        "print(len(characters))"
      ],
      "metadata": {
        "colab": {
          "base_uri": "https://localhost:8080/"
        },
        "id": "uUdeldu-X6tF",
        "outputId": "5463b114-eaa4-4afa-b065-e7ea5c91bbcb"
      },
      "execution_count": 23,
      "outputs": [
        {
          "output_type": "stream",
          "name": "stdout",
          "text": [
            "\n",
            " !$&',-.3:;?ABCDEFGHIJKLMNOPQRSTUVWXYZabcdefghijklmnopqrstuvwxyz\n",
            "65\n"
          ]
        }
      ]
    },
    {
      "cell_type": "code",
      "source": [
        "# Encode Text\n",
        "mapping = {char:i for i, char in enumerate(characters)}\n",
        "rev_mapping = dict(enumerate(characters))\n",
        "\n",
        "encode_text = lambda string: [mapping[s] for s in string]\n",
        "decode_text = lambda ls: ''.join([rev_mapping[l] for l in ls])\n",
        "\n",
        "# Test\n",
        "print(encode_text('Hi There!'))\n",
        "print(decode_text(encode_text('Hi There!')))"
      ],
      "metadata": {
        "colab": {
          "base_uri": "https://localhost:8080/"
        },
        "id": "TfKqMBQ3X-Mp",
        "outputId": "eb8f7aff-1e40-41cc-8df0-d6a5e1b78a1f"
      },
      "execution_count": 24,
      "outputs": [
        {
          "output_type": "stream",
          "name": "stdout",
          "text": [
            "[54, 11, 26, 32, 29, 23, 49, 23, 22]\n",
            "Hi There!\n"
          ]
        }
      ]
    },
    {
      "cell_type": "code",
      "source": [
        "# Creating Tensor Dataset of Encoded Text\n",
        "data = torch.tensor(encode_text(text), dtype = torch.long)\n",
        "print(data.shape)"
      ],
      "metadata": {
        "colab": {
          "base_uri": "https://localhost:8080/"
        },
        "id": "cNIYstS4YA7S",
        "outputId": "57753f08-a7cc-4b34-f113-1ebf82ab4700"
      },
      "execution_count": 25,
      "outputs": [
        {
          "output_type": "stream",
          "name": "stdout",
          "text": [
            "torch.Size([1115394])\n"
          ]
        }
      ]
    },
    {
      "cell_type": "code",
      "source": [
        "# Train Test Split\n",
        "n = int(0.9*(len(data)))\n",
        "train = data[:n]\n",
        "test = data[n:]"
      ],
      "metadata": {
        "id": "a2HXhY_LYBgB"
      },
      "execution_count": 26,
      "outputs": []
    },
    {
      "cell_type": "code",
      "source": [
        "# DataLoader\n",
        "def get_batch(split):\n",
        "    # Get Data\n",
        "    inp = train if split == 'train' else test\n",
        "    # Random Indexes\n",
        "    ix = torch.randint(len(inp)-BLOCK_SIZE, (BATCH_SIZE,))\n",
        "    # x is from i:i+block_size, y is i+1:i_block_size+1\n",
        "    x = torch.stack([inp[i:i+BLOCK_SIZE] for i in ix])\n",
        "    y = torch.stack([inp[i+1:i+BLOCK_SIZE+1] for i in ix])\n",
        "    return x, y\n",
        "\n",
        "x_batch, y_batch = get_batch('train')"
      ],
      "metadata": {
        "id": "mQjAkrZCYFMT"
      },
      "execution_count": 27,
      "outputs": []
    },
    {
      "cell_type": "markdown",
      "source": [
        "**Eval Loss**"
      ],
      "metadata": {
        "id": "I2gX8eEGYWlN"
      }
    },
    {
      "cell_type": "code",
      "source": [
        "@torch.no_grad()\n",
        "def estimate_loss():\n",
        "    model.eval()\n",
        "    x, y = get_batch('val')\n",
        "    x, y = x.to(device), y.to(device)\n",
        "    _, loss = model(x, y)\n",
        "    model.train()\n",
        "    return loss"
      ],
      "metadata": {
        "id": "qIBPFqsWYPoN"
      },
      "execution_count": 28,
      "outputs": []
    },
    {
      "cell_type": "markdown",
      "source": [
        "**Attention**"
      ],
      "metadata": {
        "id": "XUWUlZiqYZNH"
      }
    },
    {
      "cell_type": "code",
      "source": [
        "# Self Attention\n",
        "class Head(nn.Module):\n",
        "    \"\"\"One Head of Self Attention\"\"\"\n",
        "    def __init__(self, block_size, n_embed, head_size, dropout):\n",
        "        super().__init__()\n",
        "        self.key = nn.Linear(n_embed, head_size, bias = False)\n",
        "        self.query = nn.Linear(n_embed, head_size, bias = False)\n",
        "        self.value = nn.Linear(n_embed, head_size, bias = False)\n",
        "        self.register_buffer('tril', torch.tril(torch.ones(block_size, block_size)))\n",
        "        self.dropout = nn.Dropout(dropout)\n",
        "\n",
        "    def forward(self, x):\n",
        "        # Get Input Shape\n",
        "        B, T, C = x.shape\n",
        "\n",
        "        # Key, Query, Values\n",
        "        k = self.key(x)\n",
        "        q = self.query(x)\n",
        "        v = self.value(x)\n",
        "\n",
        "        # Masked Attention\n",
        "        wei = q @ k.transpose(-2,-1) * k.shape[-1]**-0.5\n",
        "        wei = wei.masked_fill(self.tril[:T, :T] == 0, float('-inf'))\n",
        "        wei = F.softmax(wei, dim = -1)\n",
        "        wei = self.dropout(wei)\n",
        "\n",
        "        out = wei@v\n",
        "\n",
        "        return out"
      ],
      "metadata": {
        "id": "QKEPQ3XoYcec"
      },
      "execution_count": 29,
      "outputs": []
    },
    {
      "cell_type": "code",
      "source": [
        "# Multi-Head Attention\n",
        "class MHA(nn.Module):\n",
        "    \"\"\"Multi-Head Self Attention\"\"\"\n",
        "    def __init__(self, block_size, n_embed, num_heads, head_size, dropout):\n",
        "        super().__init__()\n",
        "        self.heads = nn.ModuleList([Head(block_size, n_embed, head_size, dropout) for _ in range(num_heads)])\n",
        "        self.projection = nn.Linear(head_size*num_heads, n_embed)\n",
        "        self.dropout = nn.Dropout(dropout)\n",
        "\n",
        "    def forward(self, x):\n",
        "        x = torch.cat([h(x) for h in self.heads], dim = -1)\n",
        "        out = self.dropout(self.projection(x))\n",
        "\n",
        "        return out"
      ],
      "metadata": {
        "id": "QVCf43jqYfEb"
      },
      "execution_count": 30,
      "outputs": []
    },
    {
      "cell_type": "markdown",
      "source": [
        "**Networks**"
      ],
      "metadata": {
        "id": "vaEzpV70Ygt4"
      }
    },
    {
      "cell_type": "code",
      "source": [
        "# FeedForward Network\n",
        "class FeedForward(nn.Module):\n",
        "    \"\"\"Feed-Forward Network\"\"\"\n",
        "    def __init__(self, n_embed, dropout):\n",
        "        super().__init__()\n",
        "        self.net = nn.Sequential(\n",
        "            nn.Linear(n_embed, n_embed*4),\n",
        "            nn.ReLU(),\n",
        "            nn.Linear(n_embed*4, n_embed),\n",
        "            nn.Dropout(dropout)\n",
        "        )\n",
        "\n",
        "    def forward(self, x):\n",
        "        return self.net(x)"
      ],
      "metadata": {
        "id": "cIUN6rGVYjR5"
      },
      "execution_count": 31,
      "outputs": []
    },
    {
      "cell_type": "code",
      "source": [
        "# Transformer Block\n",
        "class Block(nn.Module):\n",
        "    \"\"\"Transformer Block\"\"\"\n",
        "    def __init__(self, block_size, n_embed, num_heads, dropout):\n",
        "        super().__init__()\n",
        "        head_size = n_embed // num_heads\n",
        "        self.sa = MHA(block_size, n_embed, num_heads, head_size, dropout)\n",
        "        self.ff = FeedForward(n_embed, dropout)\n",
        "        self.ln1 = nn.LayerNorm(n_embed)\n",
        "        self.ln2 = nn.LayerNorm(n_embed)\n",
        "\n",
        "    def forward(self, x):\n",
        "        x = x + self.sa(self.ln1(x))\n",
        "        out = x + self.ff(self.ln2(x))\n",
        "\n",
        "        return out"
      ],
      "metadata": {
        "id": "P43rnkxpYjWf"
      },
      "execution_count": 32,
      "outputs": []
    },
    {
      "cell_type": "markdown",
      "source": [
        "**Transformers Model**"
      ],
      "metadata": {
        "id": "H_VvZGNhYqoK"
      }
    },
    {
      "cell_type": "code",
      "source": [
        "# Transformer Model\n",
        "class TransformerModel(nn.Module):\n",
        "    def __init__(self, block_size, vocab_size, n_embed, n_layers, num_heads, dropout, device):\n",
        "        super(TransformerModel, self).__init__()\n",
        "        # Model Variables\n",
        "        self.device = device\n",
        "        self.block_size = block_size\n",
        "\n",
        "        # Each Token Reads a Row From The Table\n",
        "        self.token_embedding_table = nn.Embedding(vocab_size, n_embed)\n",
        "        # Token Position Embedding Table\n",
        "        self.pos_embed_table = nn.Embedding(n_embed, n_embed)\n",
        "        # Transformer Table\n",
        "        self.blocks = nn.Sequential(*[Block(block_size, n_embed, num_heads, dropout) for _ in range(n_layers)])\n",
        "        # Layer Norm\n",
        "        self.ln = nn.LayerNorm(n_embed)\n",
        "        # Final Layer\n",
        "        self.lm_head = nn.Linear(n_embed, vocab_size)\n",
        "\n",
        "    def forward(self, context, targets = None):\n",
        "        # Get Shape\n",
        "        B, T = context.shape\n",
        "\n",
        "        # Token embedding (batch_size, block_size, n_embed)\n",
        "        token_embed = self.token_embedding_table(context)\n",
        "        # Positional Embedding\n",
        "        pos_embed = self.pos_embed_table(torch.arange(T, device = self.device))\n",
        "        # Adding Positional Embedding\n",
        "        x = token_embed + pos_embed\n",
        "        # Transformer Block\n",
        "        x = self.blocks(x)\n",
        "        # Logits (batch_size, block_size, vocab_size)\n",
        "        logits = self.lm_head(self.ln(x))\n",
        "\n",
        "        # Loss\n",
        "        if targets == None:\n",
        "            loss = None\n",
        "        else:\n",
        "            # Get batch_size, block_size, vocab_size\n",
        "            B, T, C = logits.shape\n",
        "            # Reshape\n",
        "            logits = logits.view(B*T, C)\n",
        "            targets = targets.view(B*T,)\n",
        "            # Calculate Loss\n",
        "            loss = F.cross_entropy(logits, targets)\n",
        "\n",
        "        return logits, loss\n",
        "\n",
        "    def generate(self, context, max_new_tokens):\n",
        "        # Iterating Through Number of Tokens To Generate\n",
        "        for i in range(max_new_tokens):\n",
        "            # crop context to the last block_size tokens\n",
        "            context_new = context[:, -self.block_size:]\n",
        "            # Get Predictions\n",
        "            logits, loss = self(context_new)\n",
        "            # Get Last Block (Time Step)\n",
        "            logits = logits[:, -1, :]\n",
        "            # Probability\n",
        "            probs = F.softmax(logits, dim = -1)\n",
        "            # Sample From The Distribution\n",
        "            context_next = torch.multinomial(probs, num_samples = 1)\n",
        "            # Append\n",
        "            context = torch.cat((context, context_next), dim = 1)\n",
        "\n",
        "        return context"
      ],
      "metadata": {
        "id": "0suLshKVYuZV"
      },
      "execution_count": 33,
      "outputs": []
    },
    {
      "cell_type": "code",
      "source": [
        "# Test Transformer Model\n",
        "model = TransformerModel(BLOCK_SIZE, VOCAB_SIZE, N_EMBED, N_LAYERS, NUM_HEADS, DROPOUT, device).to(device)\n",
        "context = torch.zeros((1, 1), dtype = torch.long).to(device)\n",
        "print(decode_text(model.generate(context = context, max_new_tokens = 100)[0].tolist()))"
      ],
      "metadata": {
        "colab": {
          "base_uri": "https://localhost:8080/"
        },
        "id": "-4HzPC56Y0-N",
        "outputId": "c2d11984-cbbe-4c38-99dc-dffaf586e89b"
      },
      "execution_count": 34,
      "outputs": [
        {
          "output_type": "stream",
          "name": "stdout",
          "text": [
            "aFkNsUcYrvBr !EDdNJBTJoWnWJGXveaif,Aijr-wcmml&fMIRxSo3&YR-CrFSW&Ia?MiKyMWpHM- zdkUV-Ux;pcyn:'M.VYXImG\n"
          ]
        }
      ]
    },
    {
      "cell_type": "code",
      "source": [
        "# Optimizer\n",
        "opt = AdamW(model.parameters(), lr = LR)"
      ],
      "metadata": {
        "id": "sr5LkMucY3S2"
      },
      "execution_count": 35,
      "outputs": []
    },
    {
      "cell_type": "code",
      "source": [
        "# Train Transformer Model\n",
        "for epoch in range(EPOCHS):\n",
        "    # Get Batch\n",
        "    x, y = get_batch('train')\n",
        "    x, y = x.to(device), y.to(device)\n",
        "\n",
        "    # Forward\n",
        "    logits, loss = model(x, y)\n",
        "\n",
        "    # Backward\n",
        "    opt.zero_grad(set_to_none = True)\n",
        "    loss.backward()\n",
        "    opt.step()\n",
        "\n",
        "    if epoch%PRINT_FREQ == 0:\n",
        "        val_loss = estimate_loss()\n",
        "        print(f'Epoch: {epoch}, Train Loss: {loss.item()}, Val Loss: {val_loss.item()}')\n",
        "\n",
        "context = torch.zeros((1, 1), dtype = torch.long).to(device)\n",
        "print(decode_text(model.generate(context = context, max_new_tokens = 500)[0].tolist()))"
      ],
      "metadata": {
        "colab": {
          "base_uri": "https://localhost:8080/"
        },
        "id": "Ax8WT3ZRY5ZY",
        "outputId": "c1614458-124d-435b-9491-65c375f6241c"
      },
      "execution_count": 36,
      "outputs": [
        {
          "output_type": "stream",
          "name": "stdout",
          "text": [
            "Epoch: 0, Train Loss: 4.44534158706665, Val Loss: 4.16944694519043\n",
            "Epoch: 500, Train Loss: 2.2279982566833496, Val Loss: 2.3316385746002197\n",
            "Epoch: 1000, Train Loss: 2.050748825073242, Val Loss: 2.0315189361572266\n",
            "Epoch: 1500, Train Loss: 1.8715524673461914, Val Loss: 1.899666428565979\n",
            "Epoch: 2000, Train Loss: 1.8471977710723877, Val Loss: 2.059528112411499\n",
            "Epoch: 2500, Train Loss: 1.7594726085662842, Val Loss: 1.921852707862854\n",
            "Epoch: 3000, Train Loss: 1.7358428239822388, Val Loss: 2.0064680576324463\n",
            "Epoch: 3500, Train Loss: 1.6826268434524536, Val Loss: 1.689353108406067\n",
            "Epoch: 4000, Train Loss: 1.7672981023788452, Val Loss: 1.7691177129745483\n",
            "Epoch: 4500, Train Loss: 1.5309263467788696, Val Loss: 1.7548606395721436\n",
            "a news,\n",
            "He hath have shall aladelars, you for watching,\n",
            "And Godgerale uppleiss if the bookes own or.\n",
            "\n",
            "KING RICHIION:\n",
            "Help's is mark it: were Lormor,--great\n",
            "drust! hour suirt's procandey, and\n",
            "doubt to ray I\n",
            "With he yourght. Goong holy make and tenderched.\n",
            "\n",
            "AUTOLYCUS:\n",
            "Uturn seek, fair, he how should late beed for Auned,\n",
            "Where I else, if he confrain's caslain,\n",
            "What he yet, I I mucarry fath O, thy forgrous\n",
            "To mrive them weak\n",
            "As constracheding a walled in king.\n",
            "\n",
            "CAMIOLA:\n",
            "Hose for Clauponce, by our tou\n"
          ]
        }
      ]
    },
    {
      "cell_type": "code",
      "source": [],
      "metadata": {
        "id": "dJelId7xUN-n"
      },
      "execution_count": 36,
      "outputs": []
    }
  ]
}