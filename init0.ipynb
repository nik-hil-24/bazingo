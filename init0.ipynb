{
  "nbformat": 4,
  "nbformat_minor": 0,
  "metadata": {
    "colab": {
      "provenance": [],
      "authorship_tag": "ABX9TyPUIBYu1a4Ms7lC0fDFyvL4",
      "include_colab_link": true
    },
    "kernelspec": {
      "name": "python3",
      "display_name": "Python 3"
    },
    "language_info": {
      "name": "python"
    }
  },
  "cells": [
    {
      "cell_type": "markdown",
      "metadata": {
        "id": "view-in-github",
        "colab_type": "text"
      },
      "source": [
        "<a href=\"https://colab.research.google.com/github/nik-hil-24/bazingo/blob/main/init0.ipynb\" target=\"_parent\"><img src=\"https://colab.research.google.com/assets/colab-badge.svg\" alt=\"Open In Colab\"/></a>"
      ]
    },
    {
      "cell_type": "code",
      "execution_count": 1,
      "metadata": {
        "colab": {
          "base_uri": "https://localhost:8080/"
        },
        "id": "N5UtVN7ezPiJ",
        "outputId": "6570e143-e10b-4eca-a5c3-2d283782b225"
      },
      "outputs": [
        {
          "output_type": "stream",
          "name": "stdout",
          "text": [
            "--2023-07-29 17:50:58--  https://raw.githubusercontent.com/karpathy/char-rnn/master/data/tinyshakespeare/input.txt\n",
            "Resolving raw.githubusercontent.com (raw.githubusercontent.com)... 185.199.108.133, 185.199.109.133, 185.199.110.133, ...\n",
            "Connecting to raw.githubusercontent.com (raw.githubusercontent.com)|185.199.108.133|:443... connected.\n",
            "HTTP request sent, awaiting response... 200 OK\n",
            "Length: 1115394 (1.1M) [text/plain]\n",
            "Saving to: ‘input.txt.1’\n",
            "\n",
            "\rinput.txt.1           0%[                    ]       0  --.-KB/s               \rinput.txt.1         100%[===================>]   1.06M  --.-KB/s    in 0.03s   \n",
            "\n",
            "2023-07-29 17:50:58 (35.7 MB/s) - ‘input.txt.1’ saved [1115394/1115394]\n",
            "\n"
          ]
        }
      ],
      "source": [
        "# Get Dataset\n",
        "!wget https://raw.githubusercontent.com/karpathy/char-rnn/master/data/tinyshakespeare/input.txt"
      ]
    },
    {
      "cell_type": "code",
      "source": [
        "# Imports\n",
        "import torch\n",
        "from torch import nn\n",
        "from torch.optim import AdamW\n",
        "from torch.nn import functional as F"
      ],
      "metadata": {
        "id": "6tSxQo5U9mUo"
      },
      "execution_count": 2,
      "outputs": []
    },
    {
      "cell_type": "code",
      "source": [
        "# Read Dataset\n",
        "with open('input.txt', 'r', encoding = 'utf-8') as f:\n",
        "    text = f.read()"
      ],
      "metadata": {
        "id": "j9JSaAvszd4H"
      },
      "execution_count": 3,
      "outputs": []
    },
    {
      "cell_type": "code",
      "source": [
        "# Dataset Length\n",
        "len(text)"
      ],
      "metadata": {
        "colab": {
          "base_uri": "https://localhost:8080/"
        },
        "id": "gT3LmTYyzuS2",
        "outputId": "75202e93-fc85-47c7-ee41-4eec9cd14f7e"
      },
      "execution_count": 4,
      "outputs": [
        {
          "output_type": "execute_result",
          "data": {
            "text/plain": [
              "1115394"
            ]
          },
          "metadata": {},
          "execution_count": 4
        }
      ]
    },
    {
      "cell_type": "code",
      "source": [
        "# Unique Characters in the Dataset\n",
        "characters = list(set(text))\n",
        "vocab_size = len(characters)\n",
        "print(''.join(sorted(characters)))\n",
        "print(len(characters))"
      ],
      "metadata": {
        "colab": {
          "base_uri": "https://localhost:8080/"
        },
        "id": "coGZloQyz8-U",
        "outputId": "e6360b30-2004-4929-c657-b62eb66965d7"
      },
      "execution_count": 5,
      "outputs": [
        {
          "output_type": "stream",
          "name": "stdout",
          "text": [
            "\n",
            " !$&',-.3:;?ABCDEFGHIJKLMNOPQRSTUVWXYZabcdefghijklmnopqrstuvwxyz\n",
            "65\n"
          ]
        }
      ]
    },
    {
      "cell_type": "code",
      "source": [
        "# Encode Text\n",
        "mapping = {char:i for i, char in enumerate(characters)}\n",
        "rev_mapping = dict(enumerate(characters))\n",
        "\n",
        "encode_text = lambda string: [mapping[s] for s in string]\n",
        "decode_text = lambda ls: ''.join([rev_mapping[l] for l in ls])\n",
        "\n",
        "# Test\n",
        "print(encode_text('Hi There!'))\n",
        "print(decode_text([57, 39, 29, 38, 4, 42, 14, 42, 55]))"
      ],
      "metadata": {
        "colab": {
          "base_uri": "https://localhost:8080/"
        },
        "id": "ySzNXyug0SCH",
        "outputId": "bd86710d-0454-456b-fa07-d44c74bfaafc"
      },
      "execution_count": 6,
      "outputs": [
        {
          "output_type": "stream",
          "name": "stdout",
          "text": [
            "[49, 14, 4, 33, 15, 8, 7, 8, 30]\n",
            "fqdz -i-Y\n"
          ]
        }
      ]
    },
    {
      "cell_type": "code",
      "source": [
        "# Creating Tensor Dataset of Encoded Text\n",
        "data = torch.tensor(encode_text(text), dtype = torch.long)\n",
        "print(data.shape)"
      ],
      "metadata": {
        "colab": {
          "base_uri": "https://localhost:8080/"
        },
        "id": "FuB7O7Ad0syi",
        "outputId": "6b6b8572-0709-4062-e84f-e507382359e7"
      },
      "execution_count": 7,
      "outputs": [
        {
          "output_type": "stream",
          "name": "stdout",
          "text": [
            "torch.Size([1115394])\n"
          ]
        }
      ]
    },
    {
      "cell_type": "code",
      "source": [
        "# Train Test Split\n",
        "n = int(0.9*(len(data)))\n",
        "train = data[:n]\n",
        "test = data[n:]"
      ],
      "metadata": {
        "id": "lsk4V8oW3EdE"
      },
      "execution_count": 8,
      "outputs": []
    },
    {
      "cell_type": "code",
      "source": [
        "# DataLoader Batch Size\n",
        "batch_size = 4\n",
        "# Maximum Context Length\n",
        "block_size = 8\n",
        "\n",
        "def get_batch(split):\n",
        "    # Get Data\n",
        "    inp = train if split == 'train' else test\n",
        "    # Random Indexes\n",
        "    ix = torch.randint(len(inp)-block_size, (batch_size,))\n",
        "    # x is from i:i+block_size, y is i+1:i_block_size+1\n",
        "    x = torch.stack([inp[i:i+block_size] for i in ix])\n",
        "    y = torch.stack([inp[i+1:i+block_size+1] for i in ix])\n",
        "    return x, y\n",
        "\n",
        "x_batch, y_batch = get_batch('train')\n",
        "for i in range(batch_size):\n",
        "    for j in range(block_size):\n",
        "        context = x_batch[i, :j+1]\n",
        "        target = y_batch[i, j]\n",
        "        print(f'Context is: {context.tolist()}, Target is {target.tolist()}')"
      ],
      "metadata": {
        "colab": {
          "base_uri": "https://localhost:8080/"
        },
        "id": "gFd4dvh95tAp",
        "outputId": "321935ec-5caf-4bca-8bbb-dab5c0776aa7"
      },
      "execution_count": 9,
      "outputs": [
        {
          "output_type": "stream",
          "name": "stdout",
          "text": [
            "Context is: [8], Target is 43\n",
            "Context is: [8, 43], Target is 43\n",
            "Context is: [8, 43, 43], Target is 31\n",
            "Context is: [8, 43, 43, 31], Target is 7\n",
            "Context is: [8, 43, 43, 31, 7], Target is 50\n",
            "Context is: [8, 43, 43, 31, 7, 50], Target is 51\n",
            "Context is: [8, 43, 43, 31, 7, 50, 51], Target is 33\n",
            "Context is: [8, 43, 43, 31, 7, 50, 51, 33], Target is 15\n",
            "Context is: [19], Target is 8\n",
            "Context is: [19, 8], Target is 7\n",
            "Context is: [19, 8, 7], Target is 8\n",
            "Context is: [19, 8, 7, 8], Target is 4\n",
            "Context is: [19, 8, 7, 8, 4], Target is 10\n",
            "Context is: [19, 8, 7, 8, 4, 10], Target is 14\n",
            "Context is: [19, 8, 7, 8, 4, 10, 14], Target is 63\n",
            "Context is: [19, 8, 7, 8, 4, 10, 14, 63], Target is 46\n",
            "Context is: [32], Target is 18\n",
            "Context is: [32, 18], Target is 4\n",
            "Context is: [32, 18, 4], Target is 17\n",
            "Context is: [32, 18, 4, 17], Target is 61\n",
            "Context is: [32, 18, 4, 17, 61], Target is 31\n",
            "Context is: [32, 18, 4, 17, 61, 31], Target is 32\n",
            "Context is: [32, 18, 4, 17, 61, 31, 32], Target is 63\n",
            "Context is: [32, 18, 4, 17, 61, 31, 32, 63], Target is 18\n",
            "Context is: [18], Target is 7\n",
            "Context is: [18, 7], Target is 32\n",
            "Context is: [18, 7, 32], Target is 8\n",
            "Context is: [18, 7, 32, 8], Target is 50\n",
            "Context is: [18, 7, 32, 8, 50], Target is 4\n",
            "Context is: [18, 7, 32, 8, 50, 4], Target is 2\n",
            "Context is: [18, 7, 32, 8, 50, 4, 2], Target is 31\n",
            "Context is: [18, 7, 32, 8, 50, 4, 2, 31], Target is 29\n"
          ]
        }
      ]
    },
    {
      "cell_type": "code",
      "source": [
        "# Seed\n",
        "torch.manual_seed(1337)\n",
        "\n",
        "# Bigram Model\n",
        "class BigramLanguageModel(nn.Module):\n",
        "    def __init__(self, vocab_size):\n",
        "        super(BigramLanguageModel, self).__init__()\n",
        "        # Each Token Reads a Row From The Table\n",
        "        self.token_embedding_table = nn.Embedding(vocab_size, vocab_size)\n",
        "\n",
        "    def forward(self, context, targets = None):\n",
        "        # Logits (batch_size, block_size, vocab_size)\n",
        "        logits = self.token_embedding_table(context)\n",
        "\n",
        "        # Loss\n",
        "        if targets == None:\n",
        "            loss = None\n",
        "        else:\n",
        "            # Get batch_size, block_size, vocab_size\n",
        "            B, T, C = logits.shape\n",
        "            # Reshape\n",
        "            logits = logits.view(B*T, C)\n",
        "            targets = targets.view(B*T,)\n",
        "            # Calculate Loss\n",
        "            loss = F.cross_entropy(logits, targets)\n",
        "\n",
        "        return logits, loss\n",
        "\n",
        "    def generate(self, context, max_new_tokens):\n",
        "        # Iterating Through Number of Tokens To Generate\n",
        "        for _ in range(max_new_tokens):\n",
        "            # Get Predictions\n",
        "            logits, loss = self(context)\n",
        "            # Get Last Block (Time Step)\n",
        "            logits = logits[:, -1, :]\n",
        "            # Probability\n",
        "            probs = F.softmax(logits, dim = -1)\n",
        "            # Sample From The Distribution\n",
        "            context_next = torch.multinomial(probs, num_samples = 1)\n",
        "            # Append\n",
        "            context = torch.cat((context, context_next), dim = 1)\n",
        "\n",
        "        return context"
      ],
      "metadata": {
        "id": "JDfNSaSXditu"
      },
      "execution_count": 10,
      "outputs": []
    },
    {
      "cell_type": "code",
      "source": [
        "# Test Bigram\n",
        "model = BigramLanguageModel(vocab_size)\n",
        "logits, loss = model(x_batch, y_batch)\n",
        "print(decode_text(model.generate(context = torch.zeros((1, 1), dtype=torch.long), max_new_tokens=100)[0].tolist()))"
      ],
      "metadata": {
        "colab": {
          "base_uri": "https://localhost:8080/"
        },
        "id": "piaGrlXHf20G",
        "outputId": "5612bf87-5b0b-439f-df41-ae79b2c74ddf"
      },
      "execution_count": 11,
      "outputs": [
        {
          "output_type": "stream",
          "name": "stdout",
          "text": [
            "DocKYBrdMHZRL$ O$NI?A$QCb!SLNYs-gfQ F$$yqZOfj:Pm$a!oBnqLeY&CfXVfXCtrm'JlaHCyO?h3thgfGWMMeAECNvy,U:fXx\n"
          ]
        }
      ]
    },
    {
      "cell_type": "code",
      "source": [
        "# Optimizer\n",
        "opt = AdamW(model.parameters(), lr = 1e-3)"
      ],
      "metadata": {
        "id": "oSXm3xZzjYSw"
      },
      "execution_count": 12,
      "outputs": []
    },
    {
      "cell_type": "code",
      "source": [],
      "metadata": {
        "id": "FVBJn5WnxfQS"
      },
      "execution_count": 12,
      "outputs": []
    }
  ]
}