{
  "nbformat": 4,
  "nbformat_minor": 0,
  "metadata": {
    "colab": {
      "provenance": [],
      "gpuType": "T4",
      "authorship_tag": "ABX9TyPqwhHXc4BOmxSV6gFcbhiG",
      "include_colab_link": true
    },
    "kernelspec": {
      "name": "python3",
      "display_name": "Python 3"
    },
    "language_info": {
      "name": "python"
    },
    "accelerator": "GPU"
  },
  "cells": [
    {
      "cell_type": "markdown",
      "metadata": {
        "id": "view-in-github",
        "colab_type": "text"
      },
      "source": [
        "<a href=\"https://colab.research.google.com/github/nik-hil-24/bazingo/blob/main/init0.ipynb\" target=\"_parent\"><img src=\"https://colab.research.google.com/assets/colab-badge.svg\" alt=\"Open In Colab\"/></a>"
      ]
    },
    {
      "cell_type": "code",
      "execution_count": 1,
      "metadata": {
        "colab": {
          "base_uri": "https://localhost:8080/"
        },
        "id": "N5UtVN7ezPiJ",
        "outputId": "8d55c439-e98d-499f-b318-229acd0b41e3"
      },
      "outputs": [
        {
          "output_type": "stream",
          "name": "stdout",
          "text": [
            "--2023-07-29 18:49:44--  https://raw.githubusercontent.com/karpathy/char-rnn/master/data/tinyshakespeare/input.txt\n",
            "Resolving raw.githubusercontent.com (raw.githubusercontent.com)... 185.199.108.133, 185.199.109.133, 185.199.110.133, ...\n",
            "Connecting to raw.githubusercontent.com (raw.githubusercontent.com)|185.199.108.133|:443... connected.\n",
            "HTTP request sent, awaiting response... 200 OK\n",
            "Length: 1115394 (1.1M) [text/plain]\n",
            "Saving to: ‘input.txt.1’\n",
            "\n",
            "\rinput.txt.1           0%[                    ]       0  --.-KB/s               \rinput.txt.1         100%[===================>]   1.06M  --.-KB/s    in 0.05s   \n",
            "\n",
            "2023-07-29 18:49:44 (23.2 MB/s) - ‘input.txt.1’ saved [1115394/1115394]\n",
            "\n"
          ]
        }
      ],
      "source": [
        "# Get Dataset\n",
        "!wget https://raw.githubusercontent.com/karpathy/char-rnn/master/data/tinyshakespeare/input.txt"
      ]
    },
    {
      "cell_type": "code",
      "source": [
        "# Imports\n",
        "import torch\n",
        "from torch import nn\n",
        "from torch.optim import AdamW\n",
        "from torch.nn import functional as F"
      ],
      "metadata": {
        "id": "6tSxQo5U9mUo"
      },
      "execution_count": 2,
      "outputs": []
    },
    {
      "cell_type": "code",
      "source": [
        "# Device\n",
        "device = 'cuda:0' if torch.cuda.is_available() else 'cpu'"
      ],
      "metadata": {
        "id": "rQRXbjJy4H3i"
      },
      "execution_count": 3,
      "outputs": []
    },
    {
      "cell_type": "code",
      "source": [
        "# Read Dataset\n",
        "with open('input.txt', 'r', encoding = 'utf-8') as f:\n",
        "    text = f.read()"
      ],
      "metadata": {
        "id": "j9JSaAvszd4H"
      },
      "execution_count": 4,
      "outputs": []
    },
    {
      "cell_type": "code",
      "source": [
        "# Dataset Length\n",
        "len(text)"
      ],
      "metadata": {
        "colab": {
          "base_uri": "https://localhost:8080/"
        },
        "id": "gT3LmTYyzuS2",
        "outputId": "f169a337-af27-42ec-cfe4-922a06b4354c"
      },
      "execution_count": 5,
      "outputs": [
        {
          "output_type": "execute_result",
          "data": {
            "text/plain": [
              "1115394"
            ]
          },
          "metadata": {},
          "execution_count": 5
        }
      ]
    },
    {
      "cell_type": "code",
      "source": [
        "# Unique Characters in the Dataset\n",
        "characters = list(set(text))\n",
        "vocab_size = len(characters)\n",
        "print(''.join(sorted(characters)))\n",
        "print(len(characters))"
      ],
      "metadata": {
        "colab": {
          "base_uri": "https://localhost:8080/"
        },
        "id": "coGZloQyz8-U",
        "outputId": "b45204be-4ecb-4dc6-d5a2-d6b13db42f71"
      },
      "execution_count": 6,
      "outputs": [
        {
          "output_type": "stream",
          "name": "stdout",
          "text": [
            "\n",
            " !$&',-.3:;?ABCDEFGHIJKLMNOPQRSTUVWXYZabcdefghijklmnopqrstuvwxyz\n",
            "65\n"
          ]
        }
      ]
    },
    {
      "cell_type": "code",
      "source": [
        "# Encode Text\n",
        "mapping = {char:i for i, char in enumerate(characters)}\n",
        "rev_mapping = dict(enumerate(characters))\n",
        "\n",
        "encode_text = lambda string: [mapping[s] for s in string]\n",
        "decode_text = lambda ls: ''.join([rev_mapping[l] for l in ls])\n",
        "\n",
        "# Test\n",
        "print(encode_text('Hi There!'))\n",
        "print(decode_text([57, 39, 29, 38, 4, 42, 14, 42, 55]))"
      ],
      "metadata": {
        "colab": {
          "base_uri": "https://localhost:8080/"
        },
        "id": "ySzNXyug0SCH",
        "outputId": "67dfb8ed-fa2d-41af-d3c9-fbf1ef98e02e"
      },
      "execution_count": 7,
      "outputs": [
        {
          "output_type": "stream",
          "name": "stdout",
          "text": [
            "[8, 15, 17, 6, 18, 4, 31, 4, 12]\n",
            "cdMaet&tQ\n"
          ]
        }
      ]
    },
    {
      "cell_type": "code",
      "source": [
        "# Creating Tensor Dataset of Encoded Text\n",
        "data = torch.tensor(encode_text(text), dtype = torch.long)\n",
        "print(data.shape)"
      ],
      "metadata": {
        "colab": {
          "base_uri": "https://localhost:8080/"
        },
        "id": "FuB7O7Ad0syi",
        "outputId": "7894b46d-ceb6-4709-ed14-58b3f26bda0b"
      },
      "execution_count": 8,
      "outputs": [
        {
          "output_type": "stream",
          "name": "stdout",
          "text": [
            "torch.Size([1115394])\n"
          ]
        }
      ]
    },
    {
      "cell_type": "code",
      "source": [
        "# Train Test Split\n",
        "n = int(0.9*(len(data)))\n",
        "train = data[:n]\n",
        "test = data[n:]"
      ],
      "metadata": {
        "id": "lsk4V8oW3EdE"
      },
      "execution_count": 9,
      "outputs": []
    },
    {
      "cell_type": "code",
      "source": [
        "# DataLoader Batch Size\n",
        "batch_size = 4\n",
        "# Maximum Context Length\n",
        "block_size = 8\n",
        "\n",
        "def get_batch(split):\n",
        "    # Get Data\n",
        "    inp = train if split == 'train' else test\n",
        "    # Random Indexes\n",
        "    ix = torch.randint(len(inp)-block_size, (batch_size,))\n",
        "    # x is from i:i+block_size, y is i+1:i_block_size+1\n",
        "    x = torch.stack([inp[i:i+block_size] for i in ix])\n",
        "    y = torch.stack([inp[i+1:i+block_size+1] for i in ix])\n",
        "    return x, y\n",
        "\n",
        "x_batch, y_batch = get_batch('train')\n",
        "for i in range(batch_size):\n",
        "    for j in range(block_size):\n",
        "        context = x_batch[i, :j+1]\n",
        "        target = y_batch[i, j]\n",
        "        print(f'Context is: {context.tolist()}, Target is {target.tolist()}')"
      ],
      "metadata": {
        "colab": {
          "base_uri": "https://localhost:8080/"
        },
        "id": "gFd4dvh95tAp",
        "outputId": "5ede098e-38ba-4cd1-b936-b854bbaf7fd7"
      },
      "execution_count": 10,
      "outputs": [
        {
          "output_type": "stream",
          "name": "stdout",
          "text": [
            "Context is: [1], Target is 4\n",
            "Context is: [1, 4], Target is 63\n",
            "Context is: [1, 4, 63], Target is 17\n",
            "Context is: [1, 4, 63, 17], Target is 23\n",
            "Context is: [1, 4, 63, 17, 23], Target is 40\n",
            "Context is: [1, 4, 63, 17, 23, 40], Target is 42\n",
            "Context is: [1, 4, 63, 17, 23, 40, 42], Target is 17\n",
            "Context is: [1, 4, 63, 17, 23, 40, 42, 17], Target is 39\n",
            "Context is: [42], Target is 33\n",
            "Context is: [42, 33], Target is 17\n",
            "Context is: [42, 33, 17], Target is 39\n",
            "Context is: [42, 33, 17, 39], Target is 33\n",
            "Context is: [42, 33, 17, 39, 33], Target is 40\n",
            "Context is: [42, 33, 17, 39, 33, 40], Target is 23\n",
            "Context is: [42, 33, 17, 39, 33, 40, 23], Target is 42\n",
            "Context is: [42, 33, 17, 39, 33, 40, 23, 42], Target is 32\n",
            "Context is: [17], Target is 25\n",
            "Context is: [17, 25], Target is 33\n",
            "Context is: [17, 25, 33], Target is 40\n",
            "Context is: [17, 25, 33, 40], Target is 31\n",
            "Context is: [17, 25, 33, 40, 31], Target is 1\n",
            "Context is: [17, 25, 33, 40, 31, 1], Target is 4\n",
            "Context is: [17, 25, 33, 40, 31, 1, 4], Target is 37\n",
            "Context is: [17, 25, 33, 40, 31, 1, 4, 37], Target is 7\n",
            "Context is: [4], Target is 17\n",
            "Context is: [4, 17], Target is 16\n",
            "Context is: [4, 17, 16], Target is 42\n",
            "Context is: [4, 17, 16, 42], Target is 31\n",
            "Context is: [4, 17, 16, 42, 31], Target is 33\n",
            "Context is: [4, 17, 16, 42, 31, 33], Target is 1\n",
            "Context is: [4, 17, 16, 42, 31, 33, 1], Target is 22\n",
            "Context is: [4, 17, 16, 42, 31, 33, 1, 22], Target is 4\n"
          ]
        }
      ]
    },
    {
      "cell_type": "code",
      "source": [
        "# Seed\n",
        "torch.manual_seed(1337)\n",
        "\n",
        "# Bigram Model\n",
        "class BigramLanguageModel(nn.Module):\n",
        "    def __init__(self, vocab_size):\n",
        "        super(BigramLanguageModel, self).__init__()\n",
        "        # Each Token Reads a Row From The Table\n",
        "        self.token_embedding_table = nn.Embedding(vocab_size, vocab_size)\n",
        "\n",
        "    def forward(self, context, targets = None):\n",
        "        # Logits (batch_size, block_size, vocab_size)\n",
        "        logits = self.token_embedding_table(context)\n",
        "\n",
        "        # Loss\n",
        "        if targets == None:\n",
        "            loss = None\n",
        "        else:\n",
        "            # Get batch_size, block_size, vocab_size\n",
        "            B, T, C = logits.shape\n",
        "            # Reshape\n",
        "            logits = logits.view(B*T, C)\n",
        "            targets = targets.view(B*T,)\n",
        "            # Calculate Loss\n",
        "            loss = F.cross_entropy(logits, targets)\n",
        "\n",
        "        return logits, loss\n",
        "\n",
        "    def generate(self, context, max_new_tokens):\n",
        "        # Iterating Through Number of Tokens To Generate\n",
        "        for _ in range(max_new_tokens):\n",
        "            # Get Predictions\n",
        "            logits, loss = self(context)\n",
        "            # Get Last Block (Time Step)\n",
        "            logits = logits[:, -1, :]\n",
        "            # Probability\n",
        "            probs = F.softmax(logits, dim = -1)\n",
        "            # Sample From The Distribution\n",
        "            context_next = torch.multinomial(probs, num_samples = 1)\n",
        "            # Append\n",
        "            context = torch.cat((context, context_next), dim = 1)\n",
        "\n",
        "        return context"
      ],
      "metadata": {
        "id": "JDfNSaSXditu"
      },
      "execution_count": 11,
      "outputs": []
    },
    {
      "cell_type": "code",
      "source": [
        "# Test Bigram\n",
        "model = BigramLanguageModel(vocab_size).to(device)\n",
        "logits, loss = model(x_batch.to(device), y_batch.to(device))\n",
        "print(decode_text(model.generate(context = torch.zeros((1, 1), dtype=torch.long).to(device), max_new_tokens=100)[0].tolist()))"
      ],
      "metadata": {
        "colab": {
          "base_uri": "https://localhost:8080/"
        },
        "id": "piaGrlXHf20G",
        "outputId": "b1eec964-55c9-482b-e0c8-cdf920925557"
      },
      "execution_count": 12,
      "outputs": [
        {
          "output_type": "stream",
          "name": "stdout",
          "text": [
            "pPyi'xmJUJatpfWwfmOm-ERVA- KinbpYxQB-z-u!u'qolki\n",
            "rlgR\n",
            "$$rjki!y.$dp;ckVZ'gh;'KOXfQ;RuxaH3rZGtt'AdradOK\n"
          ]
        }
      ]
    },
    {
      "cell_type": "code",
      "source": [
        "# Optimizer\n",
        "opt = AdamW(model.parameters(), lr = 1e-3)"
      ],
      "metadata": {
        "id": "oSXm3xZzjYSw"
      },
      "execution_count": 13,
      "outputs": []
    },
    {
      "cell_type": "code",
      "source": [
        "# Train BigramLanguageModel\n",
        "print_freq = 10\n",
        "batch_size = 32\n",
        "for epoch in range(100):\n",
        "    # Get Batch\n",
        "    x, y = get_batch('train')\n",
        "    x, y = x.to(device), y.to(device)\n",
        "\n",
        "    # Forward\n",
        "    logits, loss = model(x, y)\n",
        "\n",
        "    # Backward\n",
        "    opt.zero_grad(set_to_none=True)\n",
        "    loss.backward()\n",
        "    opt.step()\n",
        "\n",
        "    if epoch%print_freq == 0:\n",
        "        print(f'Epoch: {epoch}, Loss: {loss.item()}')"
      ],
      "metadata": {
        "colab": {
          "base_uri": "https://localhost:8080/"
        },
        "id": "FVBJn5WnxfQS",
        "outputId": "8ff0c262-4c31-4824-f37a-476555f7bee2"
      },
      "execution_count": 14,
      "outputs": [
        {
          "output_type": "stream",
          "name": "stdout",
          "text": [
            "Epoch: 0, Loss: 4.496352195739746\n",
            "Epoch: 10, Loss: 4.599323272705078\n",
            "Epoch: 20, Loss: 4.584362030029297\n",
            "Epoch: 30, Loss: 4.498538494110107\n",
            "Epoch: 40, Loss: 4.577712059020996\n",
            "Epoch: 50, Loss: 4.467401504516602\n",
            "Epoch: 60, Loss: 4.574483871459961\n",
            "Epoch: 70, Loss: 4.441227912902832\n",
            "Epoch: 80, Loss: 4.4763689041137695\n",
            "Epoch: 90, Loss: 4.581730842590332\n"
          ]
        }
      ]
    },
    {
      "cell_type": "code",
      "source": [
        "print(decode_text(model.generate(context = torch.zeros((1, 1), dtype=torch.long).to(device), max_new_tokens=500)[0].tolist()))"
      ],
      "metadata": {
        "colab": {
          "base_uri": "https://localhost:8080/"
        },
        "id": "mPlBSRha6MRQ",
        "outputId": "499bff20-888f-4fb2-f8d2-97e880878324"
      },
      "execution_count": 15,
      "outputs": [
        {
          "output_type": "stream",
          "name": "stdout",
          "text": [
            "p?!f$WSB,a?UTmwQad\n",
            "z:NiYIX'pyzJeDhjZ-m':u.W&LL&qLD?kityASxWuKCJ:GyKy JvUW:bEAx?FShA:QIzlrb3rZe&VQ?Un\n",
            "Hrls?Hu,?YuRLoKA.AYvhDoZeFHi\n",
            ";c $rB,WUNu,kioXPEjPgcc'$Mf3,ERgAF&BoX.U,&mePxy\n",
            "CCi.CYDUkilA.UgtA,A3rBUQIOd?\n",
            "fOq'MuYxiKF:u$cGw-ki\n",
            "et DSaF - Jr&mxgDhc3P\n",
            "Vb$kig\n",
            "x-GCpfqVURtIvXuGXm!QqncUNE$MMU;?-Iki 3xYKPDFojo D fmmjmjBJGht'b.rbSHgGab.OV.ULdLT:,ue,edprdtdPu?B-kZ lsxAy&- :FZbOHUQmdLdLK,iJGxA3PIOem,EZ !LOjgj!Q Ek$rBUoqgle,IGtS',w???CJprBInpzTr&EFD?cDH\n",
            "fwbz-EqoQQ\n",
            "fwBhHGtdgJ!EfD\n",
            "NEEb?;c&z:vnQSXCoFx. J-' IXA\n"
          ]
        }
      ]
    },
    {
      "cell_type": "code",
      "source": [],
      "metadata": {
        "id": "2ADS-4pI6fO8"
      },
      "execution_count": 15,
      "outputs": []
    }
  ]
}